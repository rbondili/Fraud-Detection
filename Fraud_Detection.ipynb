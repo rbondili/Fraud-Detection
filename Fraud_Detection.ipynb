{
  "nbformat": 4,
  "nbformat_minor": 0,
  "metadata": {
    "kernelspec": {
      "display_name": "Python 3",
      "language": "python",
      "name": "python3"
    },
    "language_info": {
      "codemirror_mode": {
        "name": "ipython",
        "version": 3
      },
      "file_extension": ".py",
      "mimetype": "text/x-python",
      "name": "python",
      "nbconvert_exporter": "python",
      "pygments_lexer": "ipython3",
      "version": "3.6.8"
    },
    "colab": {
      "name": "Fraud Detection.ipynb",
      "provenance": [],
      "include_colab_link": true
    }
  },
  "cells": [
    {
      "cell_type": "markdown",
      "metadata": {
        "id": "view-in-github",
        "colab_type": "text"
      },
      "source": [
        "<a href=\"https://colab.research.google.com/github/rbondili/Fraud-Detection/blob/master/Fraud_Detection.ipynb\" target=\"_parent\"><img src=\"https://colab.research.google.com/assets/colab-badge.svg\" alt=\"Open In Colab\"/></a>"
      ]
    },
    {
      "cell_type": "markdown",
      "metadata": {
        "id": "ii3va4PNFIGL",
        "colab_type": "text"
      },
      "source": [
        "# Credit Card Fraud Detection\n",
        "### Content\n",
        "The datasets contains transactions made by credit cards in September 2013 by european cardholders. This dataset presents transactions that occurred in two days, where we have 492 frauds out of 284,807 transactions. The dataset is highly unbalanced, the positive class (frauds) account for 0.172% of all transactions.\n",
        "\n",
        "It contains only numerical input variables which are the result of a PCA transformation. Unfortunately, due to confidentiality issues, we cannot provide the original features and more background information about the data. Features V1, V2, ... V28 are the principal components obtained with PCA, the only features which have not been transformed with PCA are 'Time' and 'Amount'. Feature 'Time' contains the seconds elapsed between each transaction and the first transaction in the dataset. The feature 'Amount' is the transaction Amount, this feature can be used for example-dependant cost-senstive learning. Feature 'Class' is the response variable and it takes value 1 in case of fraud and 0 otherwise.\n",
        "\n",
        "** Run the following code to import the librairies"
      ]
    },
    {
      "cell_type": "code",
      "metadata": {
        "id": "NvJiCVa-FIGQ",
        "colab_type": "code",
        "outputId": "3b191d67-f2ea-439f-8d73-4cadc56f9d97",
        "colab": {
          "base_uri": "https://localhost:8080/",
          "height": 178
        }
      },
      "source": [
        "# Imported Libraries\n",
        "\n",
        "import numpy as np # linear algebra\n",
        "import pandas as pd # data processing, CSV file I/O (e.g. pd.read_csv)\n",
        "import tensorflow as tf\n",
        "import matplotlib.pyplot as plt\n",
        "import seaborn as sns\n",
        "from sklearn.manifold import TSNE\n",
        "from sklearn.decomposition import PCA, TruncatedSVD\n",
        "import matplotlib.patches as mpatches\n",
        "import time\n",
        "\n",
        "# Classifier Libraries\n",
        "from sklearn.linear_model import LogisticRegression\n",
        "from sklearn.svm import SVC\n",
        "from sklearn.neighbors import KNeighborsClassifier\n",
        "from sklearn.tree import DecisionTreeClassifier\n",
        "from sklearn.ensemble import RandomForestClassifier\n",
        "import collections\n",
        "\n",
        "\n",
        "# Other Libraries\n",
        "from sklearn.model_selection import train_test_split\n",
        "from sklearn.pipeline import make_pipeline\n",
        "from imblearn.pipeline import make_pipeline as imbalanced_make_pipeline\n",
        "from imblearn.over_sampling import SMOTE\n",
        "from imblearn.under_sampling import NearMiss\n",
        "from imblearn.metrics import classification_report_imbalanced\n",
        "from sklearn.metrics import precision_score, recall_score, f1_score, roc_auc_score, accuracy_score, classification_report\n",
        "from collections import Counter\n",
        "from sklearn.model_selection import KFold, StratifiedKFold\n",
        "import warnings\n",
        "warnings.filterwarnings(\"ignore\")"
      ],
      "execution_count": 1,
      "outputs": [
        {
          "output_type": "stream",
          "text": [
            "/usr/local/lib/python3.6/dist-packages/statsmodels/tools/_testing.py:19: FutureWarning: pandas.util.testing is deprecated. Use the functions in the public API at pandas.testing instead.\n",
            "  import pandas.util.testing as tm\n",
            "/usr/local/lib/python3.6/dist-packages/sklearn/externals/six.py:31: FutureWarning: The module is deprecated in version 0.21 and will be removed in version 0.23 since we've dropped support for Python 2.7. Please rely on the official version of six (https://pypi.org/project/six/).\n",
            "  \"(https://pypi.org/project/six/).\", FutureWarning)\n",
            "/usr/local/lib/python3.6/dist-packages/sklearn/utils/deprecation.py:144: FutureWarning: The sklearn.neighbors.base module is  deprecated in version 0.22 and will be removed in version 0.24. The corresponding classes / functions should instead be imported from sklearn.neighbors. Anything that cannot be imported from sklearn.neighbors is now part of the private API.\n",
            "  warnings.warn(message, FutureWarning)\n",
            "/usr/local/lib/python3.6/dist-packages/sklearn/utils/deprecation.py:144: FutureWarning: The sklearn.metrics.classification module is  deprecated in version 0.22 and will be removed in version 0.24. The corresponding classes / functions should instead be imported from sklearn.metrics. Anything that cannot be imported from sklearn.metrics is now part of the private API.\n",
            "  warnings.warn(message, FutureWarning)\n"
          ],
          "name": "stderr"
        }
      ]
    },
    {
      "cell_type": "markdown",
      "metadata": {
        "id": "IYGl-pv8FIGX",
        "colab_type": "text"
      },
      "source": [
        "## In this first step you are going to analyze the dataset\n",
        "#### 1. Import your dataset and visualize the first five rows"
      ]
    },
    {
      "cell_type": "code",
      "metadata": {
        "id": "HBM4n208aKX-",
        "colab_type": "code",
        "outputId": "f897f2b3-65a4-476f-e6dc-dedaf45e8d01",
        "colab": {
          "base_uri": "https://localhost:8080/",
          "height": 125
        }
      },
      "source": [
        "from google.colab import drive\n",
        "drive.mount('/content/drive', force_remount=True)"
      ],
      "execution_count": 2,
      "outputs": [
        {
          "output_type": "stream",
          "text": [
            "Go to this URL in a browser: https://accounts.google.com/o/oauth2/auth?client_id=947318989803-6bn6qk8qdgf4n4g3pfee6491hc0brc4i.apps.googleusercontent.com&redirect_uri=urn%3aietf%3awg%3aoauth%3a2.0%3aoob&response_type=code&scope=email%20https%3a%2f%2fwww.googleapis.com%2fauth%2fdocs.test%20https%3a%2f%2fwww.googleapis.com%2fauth%2fdrive%20https%3a%2f%2fwww.googleapis.com%2fauth%2fdrive.photos.readonly%20https%3a%2f%2fwww.googleapis.com%2fauth%2fpeopleapi.readonly\n",
            "\n",
            "Enter your authorization code:\n",
            "··········\n",
            "Mounted at /content/drive\n"
          ],
          "name": "stdout"
        }
      ]
    },
    {
      "cell_type": "code",
      "metadata": {
        "id": "qGfp4iVrbtCJ",
        "colab_type": "code",
        "outputId": "4e1aae0f-11fc-4289-e88d-a8feb8024744",
        "colab": {
          "base_uri": "https://localhost:8080/",
          "height": 34
        }
      },
      "source": [
        "cd /content/drive/My\\ Drive/Colab\\ Notebooks/Fraud\\ Detection/"
      ],
      "execution_count": 3,
      "outputs": [
        {
          "output_type": "stream",
          "text": [
            "/content/drive/My Drive/Colab Notebooks/Fraud Detection\n"
          ],
          "name": "stdout"
        }
      ]
    },
    {
      "cell_type": "code",
      "metadata": {
        "id": "dDSuQ8tUb_kM",
        "colab_type": "code",
        "outputId": "2dc975d9-a0d8-46fc-89d2-eb3fe4bcf5f0",
        "colab": {
          "base_uri": "https://localhost:8080/",
          "height": 34
        }
      },
      "source": [
        "ls /content/drive/My\\ Drive/Colab\\ Notebooks/Fraud\\ Detection/"
      ],
      "execution_count": 4,
      "outputs": [
        {
          "output_type": "stream",
          "text": [
            " \u001b[0m\u001b[01;34mcreditcardfraud\u001b[0m/  'Raj B1.6 - Students_sheet.ipynb'\n"
          ],
          "name": "stdout"
        }
      ]
    },
    {
      "cell_type": "code",
      "metadata": {
        "id": "5yFC5YtscFZw",
        "colab_type": "code",
        "outputId": "99859785-4d71-46cc-ba96-94035314e4ea",
        "colab": {
          "base_uri": "https://localhost:8080/",
          "height": 34
        }
      },
      "source": [
        "pwd"
      ],
      "execution_count": 5,
      "outputs": [
        {
          "output_type": "execute_result",
          "data": {
            "text/plain": [
              "'/content/drive/My Drive/Colab Notebooks/Fraud Detection'"
            ]
          },
          "metadata": {
            "tags": []
          },
          "execution_count": 5
        }
      ]
    },
    {
      "cell_type": "code",
      "metadata": {
        "id": "-jymC5hzcGhk",
        "colab_type": "code",
        "colab": {}
      },
      "source": [
        "# import zipfile\n",
        "# with zipfile.ZipFile('/content/drive/My Drive/Colab Notebooks/Fraud Detection/creditcardfraud.zip', 'r') as zip_ref:\n",
        "#     zip_ref.extractall('/content/drive/My Drive/Colab Notebooks/Fraud Detection/creditcardfraud')"
      ],
      "execution_count": 0,
      "outputs": []
    },
    {
      "cell_type": "code",
      "metadata": {
        "id": "58yCl4R6gU7i",
        "colab_type": "code",
        "outputId": "2f66fcec-7eb5-45ee-b9e7-87395a3d9880",
        "colab": {
          "base_uri": "https://localhost:8080/",
          "height": 34
        }
      },
      "source": [
        "ls /content/drive/My\\ Drive/Colab\\ Notebooks/Fraud\\ Detection/creditcardfraud"
      ],
      "execution_count": 7,
      "outputs": [
        {
          "output_type": "stream",
          "text": [
            "creditcard.csv\n"
          ],
          "name": "stdout"
        }
      ]
    },
    {
      "cell_type": "code",
      "metadata": {
        "id": "nCSTdTxJFIGY",
        "colab_type": "code",
        "colab": {}
      },
      "source": [
        "address = '/content/drive/My Drive/Colab Notebooks/Fraud Detection/creditcardfraud/creditcard.csv'\n",
        "\n",
        "df = pd.read_csv(address)"
      ],
      "execution_count": 0,
      "outputs": []
    },
    {
      "cell_type": "code",
      "metadata": {
        "id": "V4Fk_J_mgjhg",
        "colab_type": "code",
        "outputId": "9d06cf1c-f9a1-4f95-eaa9-f10061bc3e6c",
        "colab": {
          "base_uri": "https://localhost:8080/",
          "height": 217
        }
      },
      "source": [
        "df.head()"
      ],
      "execution_count": 9,
      "outputs": [
        {
          "output_type": "execute_result",
          "data": {
            "text/html": [
              "<div>\n",
              "<style scoped>\n",
              "    .dataframe tbody tr th:only-of-type {\n",
              "        vertical-align: middle;\n",
              "    }\n",
              "\n",
              "    .dataframe tbody tr th {\n",
              "        vertical-align: top;\n",
              "    }\n",
              "\n",
              "    .dataframe thead th {\n",
              "        text-align: right;\n",
              "    }\n",
              "</style>\n",
              "<table border=\"1\" class=\"dataframe\">\n",
              "  <thead>\n",
              "    <tr style=\"text-align: right;\">\n",
              "      <th></th>\n",
              "      <th>Time</th>\n",
              "      <th>V1</th>\n",
              "      <th>V2</th>\n",
              "      <th>V3</th>\n",
              "      <th>V4</th>\n",
              "      <th>V5</th>\n",
              "      <th>V6</th>\n",
              "      <th>V7</th>\n",
              "      <th>V8</th>\n",
              "      <th>V9</th>\n",
              "      <th>V10</th>\n",
              "      <th>V11</th>\n",
              "      <th>V12</th>\n",
              "      <th>V13</th>\n",
              "      <th>V14</th>\n",
              "      <th>V15</th>\n",
              "      <th>V16</th>\n",
              "      <th>V17</th>\n",
              "      <th>V18</th>\n",
              "      <th>V19</th>\n",
              "      <th>V20</th>\n",
              "      <th>V21</th>\n",
              "      <th>V22</th>\n",
              "      <th>V23</th>\n",
              "      <th>V24</th>\n",
              "      <th>V25</th>\n",
              "      <th>V26</th>\n",
              "      <th>V27</th>\n",
              "      <th>V28</th>\n",
              "      <th>Amount</th>\n",
              "      <th>Class</th>\n",
              "    </tr>\n",
              "  </thead>\n",
              "  <tbody>\n",
              "    <tr>\n",
              "      <th>0</th>\n",
              "      <td>0.0</td>\n",
              "      <td>-1.359807</td>\n",
              "      <td>-0.072781</td>\n",
              "      <td>2.536347</td>\n",
              "      <td>1.378155</td>\n",
              "      <td>-0.338321</td>\n",
              "      <td>0.462388</td>\n",
              "      <td>0.239599</td>\n",
              "      <td>0.098698</td>\n",
              "      <td>0.363787</td>\n",
              "      <td>0.090794</td>\n",
              "      <td>-0.551600</td>\n",
              "      <td>-0.617801</td>\n",
              "      <td>-0.991390</td>\n",
              "      <td>-0.311169</td>\n",
              "      <td>1.468177</td>\n",
              "      <td>-0.470401</td>\n",
              "      <td>0.207971</td>\n",
              "      <td>0.025791</td>\n",
              "      <td>0.403993</td>\n",
              "      <td>0.251412</td>\n",
              "      <td>-0.018307</td>\n",
              "      <td>0.277838</td>\n",
              "      <td>-0.110474</td>\n",
              "      <td>0.066928</td>\n",
              "      <td>0.128539</td>\n",
              "      <td>-0.189115</td>\n",
              "      <td>0.133558</td>\n",
              "      <td>-0.021053</td>\n",
              "      <td>149.62</td>\n",
              "      <td>0</td>\n",
              "    </tr>\n",
              "    <tr>\n",
              "      <th>1</th>\n",
              "      <td>0.0</td>\n",
              "      <td>1.191857</td>\n",
              "      <td>0.266151</td>\n",
              "      <td>0.166480</td>\n",
              "      <td>0.448154</td>\n",
              "      <td>0.060018</td>\n",
              "      <td>-0.082361</td>\n",
              "      <td>-0.078803</td>\n",
              "      <td>0.085102</td>\n",
              "      <td>-0.255425</td>\n",
              "      <td>-0.166974</td>\n",
              "      <td>1.612727</td>\n",
              "      <td>1.065235</td>\n",
              "      <td>0.489095</td>\n",
              "      <td>-0.143772</td>\n",
              "      <td>0.635558</td>\n",
              "      <td>0.463917</td>\n",
              "      <td>-0.114805</td>\n",
              "      <td>-0.183361</td>\n",
              "      <td>-0.145783</td>\n",
              "      <td>-0.069083</td>\n",
              "      <td>-0.225775</td>\n",
              "      <td>-0.638672</td>\n",
              "      <td>0.101288</td>\n",
              "      <td>-0.339846</td>\n",
              "      <td>0.167170</td>\n",
              "      <td>0.125895</td>\n",
              "      <td>-0.008983</td>\n",
              "      <td>0.014724</td>\n",
              "      <td>2.69</td>\n",
              "      <td>0</td>\n",
              "    </tr>\n",
              "    <tr>\n",
              "      <th>2</th>\n",
              "      <td>1.0</td>\n",
              "      <td>-1.358354</td>\n",
              "      <td>-1.340163</td>\n",
              "      <td>1.773209</td>\n",
              "      <td>0.379780</td>\n",
              "      <td>-0.503198</td>\n",
              "      <td>1.800499</td>\n",
              "      <td>0.791461</td>\n",
              "      <td>0.247676</td>\n",
              "      <td>-1.514654</td>\n",
              "      <td>0.207643</td>\n",
              "      <td>0.624501</td>\n",
              "      <td>0.066084</td>\n",
              "      <td>0.717293</td>\n",
              "      <td>-0.165946</td>\n",
              "      <td>2.345865</td>\n",
              "      <td>-2.890083</td>\n",
              "      <td>1.109969</td>\n",
              "      <td>-0.121359</td>\n",
              "      <td>-2.261857</td>\n",
              "      <td>0.524980</td>\n",
              "      <td>0.247998</td>\n",
              "      <td>0.771679</td>\n",
              "      <td>0.909412</td>\n",
              "      <td>-0.689281</td>\n",
              "      <td>-0.327642</td>\n",
              "      <td>-0.139097</td>\n",
              "      <td>-0.055353</td>\n",
              "      <td>-0.059752</td>\n",
              "      <td>378.66</td>\n",
              "      <td>0</td>\n",
              "    </tr>\n",
              "    <tr>\n",
              "      <th>3</th>\n",
              "      <td>1.0</td>\n",
              "      <td>-0.966272</td>\n",
              "      <td>-0.185226</td>\n",
              "      <td>1.792993</td>\n",
              "      <td>-0.863291</td>\n",
              "      <td>-0.010309</td>\n",
              "      <td>1.247203</td>\n",
              "      <td>0.237609</td>\n",
              "      <td>0.377436</td>\n",
              "      <td>-1.387024</td>\n",
              "      <td>-0.054952</td>\n",
              "      <td>-0.226487</td>\n",
              "      <td>0.178228</td>\n",
              "      <td>0.507757</td>\n",
              "      <td>-0.287924</td>\n",
              "      <td>-0.631418</td>\n",
              "      <td>-1.059647</td>\n",
              "      <td>-0.684093</td>\n",
              "      <td>1.965775</td>\n",
              "      <td>-1.232622</td>\n",
              "      <td>-0.208038</td>\n",
              "      <td>-0.108300</td>\n",
              "      <td>0.005274</td>\n",
              "      <td>-0.190321</td>\n",
              "      <td>-1.175575</td>\n",
              "      <td>0.647376</td>\n",
              "      <td>-0.221929</td>\n",
              "      <td>0.062723</td>\n",
              "      <td>0.061458</td>\n",
              "      <td>123.50</td>\n",
              "      <td>0</td>\n",
              "    </tr>\n",
              "    <tr>\n",
              "      <th>4</th>\n",
              "      <td>2.0</td>\n",
              "      <td>-1.158233</td>\n",
              "      <td>0.877737</td>\n",
              "      <td>1.548718</td>\n",
              "      <td>0.403034</td>\n",
              "      <td>-0.407193</td>\n",
              "      <td>0.095921</td>\n",
              "      <td>0.592941</td>\n",
              "      <td>-0.270533</td>\n",
              "      <td>0.817739</td>\n",
              "      <td>0.753074</td>\n",
              "      <td>-0.822843</td>\n",
              "      <td>0.538196</td>\n",
              "      <td>1.345852</td>\n",
              "      <td>-1.119670</td>\n",
              "      <td>0.175121</td>\n",
              "      <td>-0.451449</td>\n",
              "      <td>-0.237033</td>\n",
              "      <td>-0.038195</td>\n",
              "      <td>0.803487</td>\n",
              "      <td>0.408542</td>\n",
              "      <td>-0.009431</td>\n",
              "      <td>0.798278</td>\n",
              "      <td>-0.137458</td>\n",
              "      <td>0.141267</td>\n",
              "      <td>-0.206010</td>\n",
              "      <td>0.502292</td>\n",
              "      <td>0.219422</td>\n",
              "      <td>0.215153</td>\n",
              "      <td>69.99</td>\n",
              "      <td>0</td>\n",
              "    </tr>\n",
              "  </tbody>\n",
              "</table>\n",
              "</div>"
            ],
            "text/plain": [
              "   Time        V1        V2        V3  ...       V27       V28  Amount  Class\n",
              "0   0.0 -1.359807 -0.072781  2.536347  ...  0.133558 -0.021053  149.62      0\n",
              "1   0.0  1.191857  0.266151  0.166480  ... -0.008983  0.014724    2.69      0\n",
              "2   1.0 -1.358354 -1.340163  1.773209  ... -0.055353 -0.059752  378.66      0\n",
              "3   1.0 -0.966272 -0.185226  1.792993  ...  0.062723  0.061458  123.50      0\n",
              "4   2.0 -1.158233  0.877737  1.548718  ...  0.219422  0.215153   69.99      0\n",
              "\n",
              "[5 rows x 31 columns]"
            ]
          },
          "metadata": {
            "tags": []
          },
          "execution_count": 9
        }
      ]
    },
    {
      "cell_type": "code",
      "metadata": {
        "id": "jPLMILJMgltj",
        "colab_type": "code",
        "outputId": "74bd494d-70a2-43db-c48b-0a03b758b521",
        "colab": {
          "base_uri": "https://localhost:8080/",
          "height": 1000
        }
      },
      "source": [
        "df.describe().T"
      ],
      "execution_count": 10,
      "outputs": [
        {
          "output_type": "execute_result",
          "data": {
            "text/html": [
              "<div>\n",
              "<style scoped>\n",
              "    .dataframe tbody tr th:only-of-type {\n",
              "        vertical-align: middle;\n",
              "    }\n",
              "\n",
              "    .dataframe tbody tr th {\n",
              "        vertical-align: top;\n",
              "    }\n",
              "\n",
              "    .dataframe thead th {\n",
              "        text-align: right;\n",
              "    }\n",
              "</style>\n",
              "<table border=\"1\" class=\"dataframe\">\n",
              "  <thead>\n",
              "    <tr style=\"text-align: right;\">\n",
              "      <th></th>\n",
              "      <th>count</th>\n",
              "      <th>mean</th>\n",
              "      <th>std</th>\n",
              "      <th>min</th>\n",
              "      <th>25%</th>\n",
              "      <th>50%</th>\n",
              "      <th>75%</th>\n",
              "      <th>max</th>\n",
              "    </tr>\n",
              "  </thead>\n",
              "  <tbody>\n",
              "    <tr>\n",
              "      <th>Time</th>\n",
              "      <td>284807.0</td>\n",
              "      <td>9.481386e+04</td>\n",
              "      <td>47488.145955</td>\n",
              "      <td>0.000000</td>\n",
              "      <td>54201.500000</td>\n",
              "      <td>84692.000000</td>\n",
              "      <td>139320.500000</td>\n",
              "      <td>172792.000000</td>\n",
              "    </tr>\n",
              "    <tr>\n",
              "      <th>V1</th>\n",
              "      <td>284807.0</td>\n",
              "      <td>3.919560e-15</td>\n",
              "      <td>1.958696</td>\n",
              "      <td>-56.407510</td>\n",
              "      <td>-0.920373</td>\n",
              "      <td>0.018109</td>\n",
              "      <td>1.315642</td>\n",
              "      <td>2.454930</td>\n",
              "    </tr>\n",
              "    <tr>\n",
              "      <th>V2</th>\n",
              "      <td>284807.0</td>\n",
              "      <td>5.688174e-16</td>\n",
              "      <td>1.651309</td>\n",
              "      <td>-72.715728</td>\n",
              "      <td>-0.598550</td>\n",
              "      <td>0.065486</td>\n",
              "      <td>0.803724</td>\n",
              "      <td>22.057729</td>\n",
              "    </tr>\n",
              "    <tr>\n",
              "      <th>V3</th>\n",
              "      <td>284807.0</td>\n",
              "      <td>-8.769071e-15</td>\n",
              "      <td>1.516255</td>\n",
              "      <td>-48.325589</td>\n",
              "      <td>-0.890365</td>\n",
              "      <td>0.179846</td>\n",
              "      <td>1.027196</td>\n",
              "      <td>9.382558</td>\n",
              "    </tr>\n",
              "    <tr>\n",
              "      <th>V4</th>\n",
              "      <td>284807.0</td>\n",
              "      <td>2.782312e-15</td>\n",
              "      <td>1.415869</td>\n",
              "      <td>-5.683171</td>\n",
              "      <td>-0.848640</td>\n",
              "      <td>-0.019847</td>\n",
              "      <td>0.743341</td>\n",
              "      <td>16.875344</td>\n",
              "    </tr>\n",
              "    <tr>\n",
              "      <th>V5</th>\n",
              "      <td>284807.0</td>\n",
              "      <td>-1.552563e-15</td>\n",
              "      <td>1.380247</td>\n",
              "      <td>-113.743307</td>\n",
              "      <td>-0.691597</td>\n",
              "      <td>-0.054336</td>\n",
              "      <td>0.611926</td>\n",
              "      <td>34.801666</td>\n",
              "    </tr>\n",
              "    <tr>\n",
              "      <th>V6</th>\n",
              "      <td>284807.0</td>\n",
              "      <td>2.010663e-15</td>\n",
              "      <td>1.332271</td>\n",
              "      <td>-26.160506</td>\n",
              "      <td>-0.768296</td>\n",
              "      <td>-0.274187</td>\n",
              "      <td>0.398565</td>\n",
              "      <td>73.301626</td>\n",
              "    </tr>\n",
              "    <tr>\n",
              "      <th>V7</th>\n",
              "      <td>284807.0</td>\n",
              "      <td>-1.694249e-15</td>\n",
              "      <td>1.237094</td>\n",
              "      <td>-43.557242</td>\n",
              "      <td>-0.554076</td>\n",
              "      <td>0.040103</td>\n",
              "      <td>0.570436</td>\n",
              "      <td>120.589494</td>\n",
              "    </tr>\n",
              "    <tr>\n",
              "      <th>V8</th>\n",
              "      <td>284807.0</td>\n",
              "      <td>-1.927028e-16</td>\n",
              "      <td>1.194353</td>\n",
              "      <td>-73.216718</td>\n",
              "      <td>-0.208630</td>\n",
              "      <td>0.022358</td>\n",
              "      <td>0.327346</td>\n",
              "      <td>20.007208</td>\n",
              "    </tr>\n",
              "    <tr>\n",
              "      <th>V9</th>\n",
              "      <td>284807.0</td>\n",
              "      <td>-3.137024e-15</td>\n",
              "      <td>1.098632</td>\n",
              "      <td>-13.434066</td>\n",
              "      <td>-0.643098</td>\n",
              "      <td>-0.051429</td>\n",
              "      <td>0.597139</td>\n",
              "      <td>15.594995</td>\n",
              "    </tr>\n",
              "    <tr>\n",
              "      <th>V10</th>\n",
              "      <td>284807.0</td>\n",
              "      <td>1.768627e-15</td>\n",
              "      <td>1.088850</td>\n",
              "      <td>-24.588262</td>\n",
              "      <td>-0.535426</td>\n",
              "      <td>-0.092917</td>\n",
              "      <td>0.453923</td>\n",
              "      <td>23.745136</td>\n",
              "    </tr>\n",
              "    <tr>\n",
              "      <th>V11</th>\n",
              "      <td>284807.0</td>\n",
              "      <td>9.170318e-16</td>\n",
              "      <td>1.020713</td>\n",
              "      <td>-4.797473</td>\n",
              "      <td>-0.762494</td>\n",
              "      <td>-0.032757</td>\n",
              "      <td>0.739593</td>\n",
              "      <td>12.018913</td>\n",
              "    </tr>\n",
              "    <tr>\n",
              "      <th>V12</th>\n",
              "      <td>284807.0</td>\n",
              "      <td>-1.810658e-15</td>\n",
              "      <td>0.999201</td>\n",
              "      <td>-18.683715</td>\n",
              "      <td>-0.405571</td>\n",
              "      <td>0.140033</td>\n",
              "      <td>0.618238</td>\n",
              "      <td>7.848392</td>\n",
              "    </tr>\n",
              "    <tr>\n",
              "      <th>V13</th>\n",
              "      <td>284807.0</td>\n",
              "      <td>1.693438e-15</td>\n",
              "      <td>0.995274</td>\n",
              "      <td>-5.791881</td>\n",
              "      <td>-0.648539</td>\n",
              "      <td>-0.013568</td>\n",
              "      <td>0.662505</td>\n",
              "      <td>7.126883</td>\n",
              "    </tr>\n",
              "    <tr>\n",
              "      <th>V14</th>\n",
              "      <td>284807.0</td>\n",
              "      <td>1.479045e-15</td>\n",
              "      <td>0.958596</td>\n",
              "      <td>-19.214325</td>\n",
              "      <td>-0.425574</td>\n",
              "      <td>0.050601</td>\n",
              "      <td>0.493150</td>\n",
              "      <td>10.526766</td>\n",
              "    </tr>\n",
              "    <tr>\n",
              "      <th>V15</th>\n",
              "      <td>284807.0</td>\n",
              "      <td>3.482336e-15</td>\n",
              "      <td>0.915316</td>\n",
              "      <td>-4.498945</td>\n",
              "      <td>-0.582884</td>\n",
              "      <td>0.048072</td>\n",
              "      <td>0.648821</td>\n",
              "      <td>8.877742</td>\n",
              "    </tr>\n",
              "    <tr>\n",
              "      <th>V16</th>\n",
              "      <td>284807.0</td>\n",
              "      <td>1.392007e-15</td>\n",
              "      <td>0.876253</td>\n",
              "      <td>-14.129855</td>\n",
              "      <td>-0.468037</td>\n",
              "      <td>0.066413</td>\n",
              "      <td>0.523296</td>\n",
              "      <td>17.315112</td>\n",
              "    </tr>\n",
              "    <tr>\n",
              "      <th>V17</th>\n",
              "      <td>284807.0</td>\n",
              "      <td>-7.528491e-16</td>\n",
              "      <td>0.849337</td>\n",
              "      <td>-25.162799</td>\n",
              "      <td>-0.483748</td>\n",
              "      <td>-0.065676</td>\n",
              "      <td>0.399675</td>\n",
              "      <td>9.253526</td>\n",
              "    </tr>\n",
              "    <tr>\n",
              "      <th>V18</th>\n",
              "      <td>284807.0</td>\n",
              "      <td>4.328772e-16</td>\n",
              "      <td>0.838176</td>\n",
              "      <td>-9.498746</td>\n",
              "      <td>-0.498850</td>\n",
              "      <td>-0.003636</td>\n",
              "      <td>0.500807</td>\n",
              "      <td>5.041069</td>\n",
              "    </tr>\n",
              "    <tr>\n",
              "      <th>V19</th>\n",
              "      <td>284807.0</td>\n",
              "      <td>9.049732e-16</td>\n",
              "      <td>0.814041</td>\n",
              "      <td>-7.213527</td>\n",
              "      <td>-0.456299</td>\n",
              "      <td>0.003735</td>\n",
              "      <td>0.458949</td>\n",
              "      <td>5.591971</td>\n",
              "    </tr>\n",
              "    <tr>\n",
              "      <th>V20</th>\n",
              "      <td>284807.0</td>\n",
              "      <td>5.085503e-16</td>\n",
              "      <td>0.770925</td>\n",
              "      <td>-54.497720</td>\n",
              "      <td>-0.211721</td>\n",
              "      <td>-0.062481</td>\n",
              "      <td>0.133041</td>\n",
              "      <td>39.420904</td>\n",
              "    </tr>\n",
              "    <tr>\n",
              "      <th>V21</th>\n",
              "      <td>284807.0</td>\n",
              "      <td>1.537294e-16</td>\n",
              "      <td>0.734524</td>\n",
              "      <td>-34.830382</td>\n",
              "      <td>-0.228395</td>\n",
              "      <td>-0.029450</td>\n",
              "      <td>0.186377</td>\n",
              "      <td>27.202839</td>\n",
              "    </tr>\n",
              "    <tr>\n",
              "      <th>V22</th>\n",
              "      <td>284807.0</td>\n",
              "      <td>7.959909e-16</td>\n",
              "      <td>0.725702</td>\n",
              "      <td>-10.933144</td>\n",
              "      <td>-0.542350</td>\n",
              "      <td>0.006782</td>\n",
              "      <td>0.528554</td>\n",
              "      <td>10.503090</td>\n",
              "    </tr>\n",
              "    <tr>\n",
              "      <th>V23</th>\n",
              "      <td>284807.0</td>\n",
              "      <td>5.367590e-16</td>\n",
              "      <td>0.624460</td>\n",
              "      <td>-44.807735</td>\n",
              "      <td>-0.161846</td>\n",
              "      <td>-0.011193</td>\n",
              "      <td>0.147642</td>\n",
              "      <td>22.528412</td>\n",
              "    </tr>\n",
              "    <tr>\n",
              "      <th>V24</th>\n",
              "      <td>284807.0</td>\n",
              "      <td>4.458112e-15</td>\n",
              "      <td>0.605647</td>\n",
              "      <td>-2.836627</td>\n",
              "      <td>-0.354586</td>\n",
              "      <td>0.040976</td>\n",
              "      <td>0.439527</td>\n",
              "      <td>4.584549</td>\n",
              "    </tr>\n",
              "    <tr>\n",
              "      <th>V25</th>\n",
              "      <td>284807.0</td>\n",
              "      <td>1.453003e-15</td>\n",
              "      <td>0.521278</td>\n",
              "      <td>-10.295397</td>\n",
              "      <td>-0.317145</td>\n",
              "      <td>0.016594</td>\n",
              "      <td>0.350716</td>\n",
              "      <td>7.519589</td>\n",
              "    </tr>\n",
              "    <tr>\n",
              "      <th>V26</th>\n",
              "      <td>284807.0</td>\n",
              "      <td>1.699104e-15</td>\n",
              "      <td>0.482227</td>\n",
              "      <td>-2.604551</td>\n",
              "      <td>-0.326984</td>\n",
              "      <td>-0.052139</td>\n",
              "      <td>0.240952</td>\n",
              "      <td>3.517346</td>\n",
              "    </tr>\n",
              "    <tr>\n",
              "      <th>V27</th>\n",
              "      <td>284807.0</td>\n",
              "      <td>-3.660161e-16</td>\n",
              "      <td>0.403632</td>\n",
              "      <td>-22.565679</td>\n",
              "      <td>-0.070840</td>\n",
              "      <td>0.001342</td>\n",
              "      <td>0.091045</td>\n",
              "      <td>31.612198</td>\n",
              "    </tr>\n",
              "    <tr>\n",
              "      <th>V28</th>\n",
              "      <td>284807.0</td>\n",
              "      <td>-1.206049e-16</td>\n",
              "      <td>0.330083</td>\n",
              "      <td>-15.430084</td>\n",
              "      <td>-0.052960</td>\n",
              "      <td>0.011244</td>\n",
              "      <td>0.078280</td>\n",
              "      <td>33.847808</td>\n",
              "    </tr>\n",
              "    <tr>\n",
              "      <th>Amount</th>\n",
              "      <td>284807.0</td>\n",
              "      <td>8.834962e+01</td>\n",
              "      <td>250.120109</td>\n",
              "      <td>0.000000</td>\n",
              "      <td>5.600000</td>\n",
              "      <td>22.000000</td>\n",
              "      <td>77.165000</td>\n",
              "      <td>25691.160000</td>\n",
              "    </tr>\n",
              "    <tr>\n",
              "      <th>Class</th>\n",
              "      <td>284807.0</td>\n",
              "      <td>1.727486e-03</td>\n",
              "      <td>0.041527</td>\n",
              "      <td>0.000000</td>\n",
              "      <td>0.000000</td>\n",
              "      <td>0.000000</td>\n",
              "      <td>0.000000</td>\n",
              "      <td>1.000000</td>\n",
              "    </tr>\n",
              "  </tbody>\n",
              "</table>\n",
              "</div>"
            ],
            "text/plain": [
              "           count          mean  ...            75%            max\n",
              "Time    284807.0  9.481386e+04  ...  139320.500000  172792.000000\n",
              "V1      284807.0  3.919560e-15  ...       1.315642       2.454930\n",
              "V2      284807.0  5.688174e-16  ...       0.803724      22.057729\n",
              "V3      284807.0 -8.769071e-15  ...       1.027196       9.382558\n",
              "V4      284807.0  2.782312e-15  ...       0.743341      16.875344\n",
              "V5      284807.0 -1.552563e-15  ...       0.611926      34.801666\n",
              "V6      284807.0  2.010663e-15  ...       0.398565      73.301626\n",
              "V7      284807.0 -1.694249e-15  ...       0.570436     120.589494\n",
              "V8      284807.0 -1.927028e-16  ...       0.327346      20.007208\n",
              "V9      284807.0 -3.137024e-15  ...       0.597139      15.594995\n",
              "V10     284807.0  1.768627e-15  ...       0.453923      23.745136\n",
              "V11     284807.0  9.170318e-16  ...       0.739593      12.018913\n",
              "V12     284807.0 -1.810658e-15  ...       0.618238       7.848392\n",
              "V13     284807.0  1.693438e-15  ...       0.662505       7.126883\n",
              "V14     284807.0  1.479045e-15  ...       0.493150      10.526766\n",
              "V15     284807.0  3.482336e-15  ...       0.648821       8.877742\n",
              "V16     284807.0  1.392007e-15  ...       0.523296      17.315112\n",
              "V17     284807.0 -7.528491e-16  ...       0.399675       9.253526\n",
              "V18     284807.0  4.328772e-16  ...       0.500807       5.041069\n",
              "V19     284807.0  9.049732e-16  ...       0.458949       5.591971\n",
              "V20     284807.0  5.085503e-16  ...       0.133041      39.420904\n",
              "V21     284807.0  1.537294e-16  ...       0.186377      27.202839\n",
              "V22     284807.0  7.959909e-16  ...       0.528554      10.503090\n",
              "V23     284807.0  5.367590e-16  ...       0.147642      22.528412\n",
              "V24     284807.0  4.458112e-15  ...       0.439527       4.584549\n",
              "V25     284807.0  1.453003e-15  ...       0.350716       7.519589\n",
              "V26     284807.0  1.699104e-15  ...       0.240952       3.517346\n",
              "V27     284807.0 -3.660161e-16  ...       0.091045      31.612198\n",
              "V28     284807.0 -1.206049e-16  ...       0.078280      33.847808\n",
              "Amount  284807.0  8.834962e+01  ...      77.165000   25691.160000\n",
              "Class   284807.0  1.727486e-03  ...       0.000000       1.000000\n",
              "\n",
              "[31 rows x 8 columns]"
            ]
          },
          "metadata": {
            "tags": []
          },
          "execution_count": 10
        }
      ]
    },
    {
      "cell_type": "markdown",
      "metadata": {
        "id": "Q7Tq34SwFIGd",
        "colab_type": "text"
      },
      "source": [
        "#### 2. Is there any Null value in your dataset?"
      ]
    },
    {
      "cell_type": "code",
      "metadata": {
        "id": "gdn3fsOWFIGf",
        "colab_type": "code",
        "outputId": "957b32d8-52b9-4f1d-a92f-4631e430aa5e",
        "colab": {
          "base_uri": "https://localhost:8080/",
          "height": 585
        }
      },
      "source": [
        "# Null Values!\n",
        "df.isnull().sum()"
      ],
      "execution_count": 11,
      "outputs": [
        {
          "output_type": "execute_result",
          "data": {
            "text/plain": [
              "Time      0\n",
              "V1        0\n",
              "V2        0\n",
              "V3        0\n",
              "V4        0\n",
              "V5        0\n",
              "V6        0\n",
              "V7        0\n",
              "V8        0\n",
              "V9        0\n",
              "V10       0\n",
              "V11       0\n",
              "V12       0\n",
              "V13       0\n",
              "V14       0\n",
              "V15       0\n",
              "V16       0\n",
              "V17       0\n",
              "V18       0\n",
              "V19       0\n",
              "V20       0\n",
              "V21       0\n",
              "V22       0\n",
              "V23       0\n",
              "V24       0\n",
              "V25       0\n",
              "V26       0\n",
              "V27       0\n",
              "V28       0\n",
              "Amount    0\n",
              "Class     0\n",
              "dtype: int64"
            ]
          },
          "metadata": {
            "tags": []
          },
          "execution_count": 11
        }
      ]
    },
    {
      "cell_type": "markdown",
      "metadata": {
        "id": "waohxmJcFIGj",
        "colab_type": "text"
      },
      "source": [
        "Comment!"
      ]
    },
    {
      "cell_type": "markdown",
      "metadata": {
        "id": "o7FmNjVOFIGk",
        "colab_type": "text"
      },
      "source": [
        "#### 3. Display the columns of the dataset"
      ]
    },
    {
      "cell_type": "code",
      "metadata": {
        "id": "I57i_gFwFIGl",
        "colab_type": "code",
        "outputId": "d67ec0c3-319b-469e-84a9-a4e7e853c992",
        "colab": {
          "base_uri": "https://localhost:8080/",
          "height": 105
        }
      },
      "source": [
        "df.columns"
      ],
      "execution_count": 12,
      "outputs": [
        {
          "output_type": "execute_result",
          "data": {
            "text/plain": [
              "Index(['Time', 'V1', 'V2', 'V3', 'V4', 'V5', 'V6', 'V7', 'V8', 'V9', 'V10',\n",
              "       'V11', 'V12', 'V13', 'V14', 'V15', 'V16', 'V17', 'V18', 'V19', 'V20',\n",
              "       'V21', 'V22', 'V23', 'V24', 'V25', 'V26', 'V27', 'V28', 'Amount',\n",
              "       'Class'],\n",
              "      dtype='object')"
            ]
          },
          "metadata": {
            "tags": []
          },
          "execution_count": 12
        }
      ]
    },
    {
      "cell_type": "markdown",
      "metadata": {
        "id": "a9zupckPFIGp",
        "colab_type": "text"
      },
      "source": [
        "#### 4. Display in percentage the different case(No Frauds, Frauds) present in the dataset"
      ]
    },
    {
      "cell_type": "code",
      "metadata": {
        "id": "uyhk6uVSFIGq",
        "colab_type": "code",
        "outputId": "1712543f-465d-4716-c121-7cb0b41c7fd0",
        "colab": {
          "base_uri": "https://localhost:8080/",
          "height": 52
        }
      },
      "source": [
        "no_fradus_pct = ((df.loc[(df['Class'] == 0)]).shape[0] / df.shape[0])* 100\n",
        "fradus_pct = ((df.loc[(df['Class'] == 1)]).shape[0] / df.shape[0])* 100\n",
        "print(f'Non Fraud credit card holder precentage in dataset :- {round(no_fradus_pct, 2)}')\n",
        "print(f'Fraud credit card holder precentage in dataset :- {round(fradus_pct, 2)}')"
      ],
      "execution_count": 13,
      "outputs": [
        {
          "output_type": "stream",
          "text": [
            "Non Fraud credit card holder precentage in dataset :- 99.83\n",
            "Fraud credit card holder precentage in dataset :- 0.17\n"
          ],
          "name": "stdout"
        }
      ]
    },
    {
      "cell_type": "markdown",
      "metadata": {
        "id": "Vmg690hGFIGy",
        "colab_type": "text"
      },
      "source": [
        "#### 5. Use different colors in other to visualize the distributions of the different case"
      ]
    },
    {
      "cell_type": "code",
      "metadata": {
        "id": "6D-68cFFFIGz",
        "colab_type": "code",
        "outputId": "aa1e4aa2-1dfb-4634-8b7e-cfaaf5a3521b",
        "colab": {
          "base_uri": "https://localhost:8080/",
          "height": 284
        }
      },
      "source": [
        "colors = [\"b\", \"r\"]\n",
        "\n",
        "%matplotlib inline\n",
        "sns.set(style=\"darkgrid\")\n",
        "ax = sns.countplot(x='Class',  data=df, hue='Class')\n",
        "plt.show()"
      ],
      "execution_count": 14,
      "outputs": [
        {
          "output_type": "display_data",
          "data": {
            "image/png": "[encoded data removed]",
            "text/plain": [
              "<Figure size 432x288 with 1 Axes>"
            ]
          },
          "metadata": {
            "tags": []
          }
        }
      ]
    },
    {
      "cell_type": "markdown",
      "metadata": {
        "id": "PyzDcZr6FIG2",
        "colab_type": "text"
      },
      "source": [
        "By seeing the distributions we can have an idea how skewed are these features, we can also see further distributions of the other features.\n",
        "####  Plot the distribution of of the transaction Amount and transaction time\n",
        "#### 6. Base on the following code where we plot the transaction amount, plot the transaction time"
      ]
    },
    {
      "cell_type": "code",
      "metadata": {
        "id": "jsYZh_OiFIG4",
        "colab_type": "code",
        "outputId": "115c58ba-0b90-435d-dcfb-0a05b9001da7",
        "colab": {
          "base_uri": "https://localhost:8080/",
          "height": 211
        }
      },
      "source": [
        "# Distributions\n",
        "fig, ax = plt.subplots(1, 2, figsize=(18,4))\n",
        "\n",
        "amount_val = df['Amount'].values\n",
        "time_val = df['Time'].values\n",
        "\n",
        "sns.distplot(amount_val, ax=ax[0], color='r')\n",
        "ax[0].set_title('Distribution of Transaction Amount', fontsize=14)\n",
        "ax[0].set_xlim([min(amount_val), max(amount_val)])\n",
        "\n",
        "\n",
        "sns.distplot(time_val, ax=ax[1], color='r')\n",
        "ax[1].set_title('Distribution of Transaction Time', fontsize=14)\n",
        "ax[1].set_xlim([min(time_val), max(time_val)])\n",
        "\n",
        "plt.show()"
      ],
      "execution_count": 15,
      "outputs": [
        {
          "output_type": "display_data",
          "data": {
            "image/png": "[encoded data removed]",
            "text/plain": [
              "<Figure size 1296x288 with 2 Axes>"
            ]
          },
          "metadata": {
            "tags": []
          }
        }
      ]
    },
    {
      "cell_type": "markdown",
      "metadata": {
        "id": "iazSD0yGFIG7",
        "colab_type": "text"
      },
      "source": [
        "## Scaling and Distributing\n",
        "We will first scale the columns comprise of Time and Amount . Time and amount should be scaled as the other columns. On the other hand, we need to also create a sub sample of the dataframe in order to have an equal amount of Fraud and Non-Fraud cases, helping our algorithms better understand patterns that determines whether a transaction is a fraud or not.\n",
        "- What is a sub-Sample?\n",
        "\n",
        "In this scenario, our subsample will be a dataframe with a 50/50 ratio of fraud and non-fraud transactions. Meaning our sub-sample will have the same amount of fraud and non fraud transactions.\n",
        "\n",
        "- Why do we create a sub-Sample?\n",
        "\n",
        "In the beginning of this notebook we saw that the original dataframe was heavily imbalanced! Using the original dataframe will cause the following issues:\n",
        "\n",
        "* Overfitting: Our classification models will assume that in most cases there are no frauds! What we want for our model is to be certain when a fraud occurs.\n",
        "\n",
        "* Wrong Correlations: Although we don't know what the \"V\" features stand for, it will be useful to understand how each of this features influence the result (Fraud or No Fraud) by having an imbalance dataframe we are not able to see the true correlations between the class and features."
      ]
    },
    {
      "cell_type": "code",
      "metadata": {
        "id": "Tf-no-K0FIG8",
        "colab_type": "code",
        "outputId": "8ed1c93d-ad11-4fda-b135-ee460e33be73",
        "colab": {
          "base_uri": "https://localhost:8080/",
          "height": 217
        }
      },
      "source": [
        "df.head()"
      ],
      "execution_count": 16,
      "outputs": [
        {
          "output_type": "execute_result",
          "data": {
            "text/html": [
              "<div>\n",
              "<style scoped>\n",
              "    .dataframe tbody tr th:only-of-type {\n",
              "        vertical-align: middle;\n",
              "    }\n",
              "\n",
              "    .dataframe tbody tr th {\n",
              "        vertical-align: top;\n",
              "    }\n",
              "\n",
              "    .dataframe thead th {\n",
              "        text-align: right;\n",
              "    }\n",
              "</style>\n",
              "<table border=\"1\" class=\"dataframe\">\n",
              "  <thead>\n",
              "    <tr style=\"text-align: right;\">\n",
              "      <th></th>\n",
              "      <th>Time</th>\n",
              "      <th>V1</th>\n",
              "      <th>V2</th>\n",
              "      <th>V3</th>\n",
              "      <th>V4</th>\n",
              "      <th>V5</th>\n",
              "      <th>V6</th>\n",
              "      <th>V7</th>\n",
              "      <th>V8</th>\n",
              "      <th>V9</th>\n",
              "      <th>V10</th>\n",
              "      <th>V11</th>\n",
              "      <th>V12</th>\n",
              "      <th>V13</th>\n",
              "      <th>V14</th>\n",
              "      <th>V15</th>\n",
              "      <th>V16</th>\n",
              "      <th>V17</th>\n",
              "      <th>V18</th>\n",
              "      <th>V19</th>\n",
              "      <th>V20</th>\n",
              "      <th>V21</th>\n",
              "      <th>V22</th>\n",
              "      <th>V23</th>\n",
              "      <th>V24</th>\n",
              "      <th>V25</th>\n",
              "      <th>V26</th>\n",
              "      <th>V27</th>\n",
              "      <th>V28</th>\n",
              "      <th>Amount</th>\n",
              "      <th>Class</th>\n",
              "    </tr>\n",
              "  </thead>\n",
              "  <tbody>\n",
              "    <tr>\n",
              "      <th>0</th>\n",
              "      <td>0.0</td>\n",
              "      <td>-1.359807</td>\n",
              "      <td>-0.072781</td>\n",
              "      <td>2.536347</td>\n",
              "      <td>1.378155</td>\n",
              "      <td>-0.338321</td>\n",
              "      <td>0.462388</td>\n",
              "      <td>0.239599</td>\n",
              "      <td>0.098698</td>\n",
              "      <td>0.363787</td>\n",
              "      <td>0.090794</td>\n",
              "      <td>-0.551600</td>\n",
              "      <td>-0.617801</td>\n",
              "      <td>-0.991390</td>\n",
              "      <td>-0.311169</td>\n",
              "      <td>1.468177</td>\n",
              "      <td>-0.470401</td>\n",
              "      <td>0.207971</td>\n",
              "      <td>0.025791</td>\n",
              "      <td>0.403993</td>\n",
              "      <td>0.251412</td>\n",
              "      <td>-0.018307</td>\n",
              "      <td>0.277838</td>\n",
              "      <td>-0.110474</td>\n",
              "      <td>0.066928</td>\n",
              "      <td>0.128539</td>\n",
              "      <td>-0.189115</td>\n",
              "      <td>0.133558</td>\n",
              "      <td>-0.021053</td>\n",
              "      <td>149.62</td>\n",
              "      <td>0</td>\n",
              "    </tr>\n",
              "    <tr>\n",
              "      <th>1</th>\n",
              "      <td>0.0</td>\n",
              "      <td>1.191857</td>\n",
              "      <td>0.266151</td>\n",
              "      <td>0.166480</td>\n",
              "      <td>0.448154</td>\n",
              "      <td>0.060018</td>\n",
              "      <td>-0.082361</td>\n",
              "      <td>-0.078803</td>\n",
              "      <td>0.085102</td>\n",
              "      <td>-0.255425</td>\n",
              "      <td>-0.166974</td>\n",
              "      <td>1.612727</td>\n",
              "      <td>1.065235</td>\n",
              "      <td>0.489095</td>\n",
              "      <td>-0.143772</td>\n",
              "      <td>0.635558</td>\n",
              "      <td>0.463917</td>\n",
              "      <td>-0.114805</td>\n",
              "      <td>-0.183361</td>\n",
              "      <td>-0.145783</td>\n",
              "      <td>-0.069083</td>\n",
              "      <td>-0.225775</td>\n",
              "      <td>-0.638672</td>\n",
              "      <td>0.101288</td>\n",
              "      <td>-0.339846</td>\n",
              "      <td>0.167170</td>\n",
              "      <td>0.125895</td>\n",
              "      <td>-0.008983</td>\n",
              "      <td>0.014724</td>\n",
              "      <td>2.69</td>\n",
              "      <td>0</td>\n",
              "    </tr>\n",
              "    <tr>\n",
              "      <th>2</th>\n",
              "      <td>1.0</td>\n",
              "      <td>-1.358354</td>\n",
              "      <td>-1.340163</td>\n",
              "      <td>1.773209</td>\n",
              "      <td>0.379780</td>\n",
              "      <td>-0.503198</td>\n",
              "      <td>1.800499</td>\n",
              "      <td>0.791461</td>\n",
              "      <td>0.247676</td>\n",
              "      <td>-1.514654</td>\n",
              "      <td>0.207643</td>\n",
              "      <td>0.624501</td>\n",
              "      <td>0.066084</td>\n",
              "      <td>0.717293</td>\n",
              "      <td>-0.165946</td>\n",
              "      <td>2.345865</td>\n",
              "      <td>-2.890083</td>\n",
              "      <td>1.109969</td>\n",
              "      <td>-0.121359</td>\n",
              "      <td>-2.261857</td>\n",
              "      <td>0.524980</td>\n",
              "      <td>0.247998</td>\n",
              "      <td>0.771679</td>\n",
              "      <td>0.909412</td>\n",
              "      <td>-0.689281</td>\n",
              "      <td>-0.327642</td>\n",
              "      <td>-0.139097</td>\n",
              "      <td>-0.055353</td>\n",
              "      <td>-0.059752</td>\n",
              "      <td>378.66</td>\n",
              "      <td>0</td>\n",
              "    </tr>\n",
              "    <tr>\n",
              "      <th>3</th>\n",
              "      <td>1.0</td>\n",
              "      <td>-0.966272</td>\n",
              "      <td>-0.185226</td>\n",
              "      <td>1.792993</td>\n",
              "      <td>-0.863291</td>\n",
              "      <td>-0.010309</td>\n",
              "      <td>1.247203</td>\n",
              "      <td>0.237609</td>\n",
              "      <td>0.377436</td>\n",
              "      <td>-1.387024</td>\n",
              "      <td>-0.054952</td>\n",
              "      <td>-0.226487</td>\n",
              "      <td>0.178228</td>\n",
              "      <td>0.507757</td>\n",
              "      <td>-0.287924</td>\n",
              "      <td>-0.631418</td>\n",
              "      <td>-1.059647</td>\n",
              "      <td>-0.684093</td>\n",
              "      <td>1.965775</td>\n",
              "      <td>-1.232622</td>\n",
              "      <td>-0.208038</td>\n",
              "      <td>-0.108300</td>\n",
              "      <td>0.005274</td>\n",
              "      <td>-0.190321</td>\n",
              "      <td>-1.175575</td>\n",
              "      <td>0.647376</td>\n",
              "      <td>-0.221929</td>\n",
              "      <td>0.062723</td>\n",
              "      <td>0.061458</td>\n",
              "      <td>123.50</td>\n",
              "      <td>0</td>\n",
              "    </tr>\n",
              "    <tr>\n",
              "      <th>4</th>\n",
              "      <td>2.0</td>\n",
              "      <td>-1.158233</td>\n",
              "      <td>0.877737</td>\n",
              "      <td>1.548718</td>\n",
              "      <td>0.403034</td>\n",
              "      <td>-0.407193</td>\n",
              "      <td>0.095921</td>\n",
              "      <td>0.592941</td>\n",
              "      <td>-0.270533</td>\n",
              "      <td>0.817739</td>\n",
              "      <td>0.753074</td>\n",
              "      <td>-0.822843</td>\n",
              "      <td>0.538196</td>\n",
              "      <td>1.345852</td>\n",
              "      <td>-1.119670</td>\n",
              "      <td>0.175121</td>\n",
              "      <td>-0.451449</td>\n",
              "      <td>-0.237033</td>\n",
              "      <td>-0.038195</td>\n",
              "      <td>0.803487</td>\n",
              "      <td>0.408542</td>\n",
              "      <td>-0.009431</td>\n",
              "      <td>0.798278</td>\n",
              "      <td>-0.137458</td>\n",
              "      <td>0.141267</td>\n",
              "      <td>-0.206010</td>\n",
              "      <td>0.502292</td>\n",
              "      <td>0.219422</td>\n",
              "      <td>0.215153</td>\n",
              "      <td>69.99</td>\n",
              "      <td>0</td>\n",
              "    </tr>\n",
              "  </tbody>\n",
              "</table>\n",
              "</div>"
            ],
            "text/plain": [
              "   Time        V1        V2        V3  ...       V27       V28  Amount  Class\n",
              "0   0.0 -1.359807 -0.072781  2.536347  ...  0.133558 -0.021053  149.62      0\n",
              "1   0.0  1.191857  0.266151  0.166480  ... -0.008983  0.014724    2.69      0\n",
              "2   1.0 -1.358354 -1.340163  1.773209  ... -0.055353 -0.059752  378.66      0\n",
              "3   1.0 -0.966272 -0.185226  1.792993  ...  0.062723  0.061458  123.50      0\n",
              "4   2.0 -1.158233  0.877737  1.548718  ...  0.219422  0.215153   69.99      0\n",
              "\n",
              "[5 rows x 31 columns]"
            ]
          },
          "metadata": {
            "tags": []
          },
          "execution_count": 16
        }
      ]
    },
    {
      "cell_type": "code",
      "metadata": {
        "id": "t0vQjLC5FIG_",
        "colab_type": "code",
        "colab": {}
      },
      "source": [
        "# Since most of our data has already been scaled we should scale the columns that are left to scale (Amount and Time)\n",
        "from sklearn.preprocessing import RobustScaler\n",
        "\n",
        "# RobustScaler is less prone to outliers.\n",
        "\n",
        "rob_scaler = RobustScaler()\n",
        "\n",
        "df['scaled_amount'] = rob_scaler.fit_transform(df['Amount'].values.reshape(-1,1))\n",
        "df['scaled_time'] = rob_scaler.fit_transform(df['Time'].values.reshape(-1,1))\n",
        "\n",
        "df.drop(['Time','Amount'], axis=1, inplace=True)"
      ],
      "execution_count": 0,
      "outputs": []
    },
    {
      "cell_type": "code",
      "metadata": {
        "id": "UYuBHJ5XFIHE",
        "colab_type": "code",
        "outputId": "93b265f8-4cbc-48d3-dea4-9cf98bd75efd",
        "colab": {
          "base_uri": "https://localhost:8080/",
          "height": 217
        }
      },
      "source": [
        "scaled_amount = df['scaled_amount']\n",
        "scaled_time = df['scaled_time']\n",
        "\n",
        "df.drop(['scaled_amount', 'scaled_time'], axis=1, inplace=True)\n",
        "df.insert(0, 'scaled_amount', scaled_amount)\n",
        "df.insert(1, 'scaled_time', scaled_time)\n",
        "\n",
        "# Amount and Time are Scaled!\n",
        "\n",
        "df.head()"
      ],
      "execution_count": 19,
      "outputs": [
        {
          "output_type": "execute_result",
          "data": {
            "text/html": [
              "<div>\n",
              "<style scoped>\n",
              "    .dataframe tbody tr th:only-of-type {\n",
              "        vertical-align: middle;\n",
              "    }\n",
              "\n",
              "    .dataframe tbody tr th {\n",
              "        vertical-align: top;\n",
              "    }\n",
              "\n",
              "    .dataframe thead th {\n",
              "        text-align: right;\n",
              "    }\n",
              "</style>\n",
              "<table border=\"1\" class=\"dataframe\">\n",
              "  <thead>\n",
              "    <tr style=\"text-align: right;\">\n",
              "      <th></th>\n",
              "      <th>scaled_amount</th>\n",
              "      <th>scaled_time</th>\n",
              "      <th>V1</th>\n",
              "      <th>V2</th>\n",
              "      <th>V3</th>\n",
              "      <th>V4</th>\n",
              "      <th>V5</th>\n",
              "      <th>V6</th>\n",
              "      <th>V7</th>\n",
              "      <th>V8</th>\n",
              "      <th>V9</th>\n",
              "      <th>V10</th>\n",
              "      <th>V11</th>\n",
              "      <th>V12</th>\n",
              "      <th>V13</th>\n",
              "      <th>V14</th>\n",
              "      <th>V15</th>\n",
              "      <th>V16</th>\n",
              "      <th>V17</th>\n",
              "      <th>V18</th>\n",
              "      <th>V19</th>\n",
              "      <th>V20</th>\n",
              "      <th>V21</th>\n",
              "      <th>V22</th>\n",
              "      <th>V23</th>\n",
              "      <th>V24</th>\n",
              "      <th>V25</th>\n",
              "      <th>V26</th>\n",
              "      <th>V27</th>\n",
              "      <th>V28</th>\n",
              "      <th>Class</th>\n",
              "    </tr>\n",
              "  </thead>\n",
              "  <tbody>\n",
              "    <tr>\n",
              "      <th>0</th>\n",
              "      <td>1.783274</td>\n",
              "      <td>-0.994983</td>\n",
              "      <td>-1.359807</td>\n",
              "      <td>-0.072781</td>\n",
              "      <td>2.536347</td>\n",
              "      <td>1.378155</td>\n",
              "      <td>-0.338321</td>\n",
              "      <td>0.462388</td>\n",
              "      <td>0.239599</td>\n",
              "      <td>0.098698</td>\n",
              "      <td>0.363787</td>\n",
              "      <td>0.090794</td>\n",
              "      <td>-0.551600</td>\n",
              "      <td>-0.617801</td>\n",
              "      <td>-0.991390</td>\n",
              "      <td>-0.311169</td>\n",
              "      <td>1.468177</td>\n",
              "      <td>-0.470401</td>\n",
              "      <td>0.207971</td>\n",
              "      <td>0.025791</td>\n",
              "      <td>0.403993</td>\n",
              "      <td>0.251412</td>\n",
              "      <td>-0.018307</td>\n",
              "      <td>0.277838</td>\n",
              "      <td>-0.110474</td>\n",
              "      <td>0.066928</td>\n",
              "      <td>0.128539</td>\n",
              "      <td>-0.189115</td>\n",
              "      <td>0.133558</td>\n",
              "      <td>-0.021053</td>\n",
              "      <td>0</td>\n",
              "    </tr>\n",
              "    <tr>\n",
              "      <th>1</th>\n",
              "      <td>-0.269825</td>\n",
              "      <td>-0.994983</td>\n",
              "      <td>1.191857</td>\n",
              "      <td>0.266151</td>\n",
              "      <td>0.166480</td>\n",
              "      <td>0.448154</td>\n",
              "      <td>0.060018</td>\n",
              "      <td>-0.082361</td>\n",
              "      <td>-0.078803</td>\n",
              "      <td>0.085102</td>\n",
              "      <td>-0.255425</td>\n",
              "      <td>-0.166974</td>\n",
              "      <td>1.612727</td>\n",
              "      <td>1.065235</td>\n",
              "      <td>0.489095</td>\n",
              "      <td>-0.143772</td>\n",
              "      <td>0.635558</td>\n",
              "      <td>0.463917</td>\n",
              "      <td>-0.114805</td>\n",
              "      <td>-0.183361</td>\n",
              "      <td>-0.145783</td>\n",
              "      <td>-0.069083</td>\n",
              "      <td>-0.225775</td>\n",
              "      <td>-0.638672</td>\n",
              "      <td>0.101288</td>\n",
              "      <td>-0.339846</td>\n",
              "      <td>0.167170</td>\n",
              "      <td>0.125895</td>\n",
              "      <td>-0.008983</td>\n",
              "      <td>0.014724</td>\n",
              "      <td>0</td>\n",
              "    </tr>\n",
              "    <tr>\n",
              "      <th>2</th>\n",
              "      <td>4.983721</td>\n",
              "      <td>-0.994972</td>\n",
              "      <td>-1.358354</td>\n",
              "      <td>-1.340163</td>\n",
              "      <td>1.773209</td>\n",
              "      <td>0.379780</td>\n",
              "      <td>-0.503198</td>\n",
              "      <td>1.800499</td>\n",
              "      <td>0.791461</td>\n",
              "      <td>0.247676</td>\n",
              "      <td>-1.514654</td>\n",
              "      <td>0.207643</td>\n",
              "      <td>0.624501</td>\n",
              "      <td>0.066084</td>\n",
              "      <td>0.717293</td>\n",
              "      <td>-0.165946</td>\n",
              "      <td>2.345865</td>\n",
              "      <td>-2.890083</td>\n",
              "      <td>1.109969</td>\n",
              "      <td>-0.121359</td>\n",
              "      <td>-2.261857</td>\n",
              "      <td>0.524980</td>\n",
              "      <td>0.247998</td>\n",
              "      <td>0.771679</td>\n",
              "      <td>0.909412</td>\n",
              "      <td>-0.689281</td>\n",
              "      <td>-0.327642</td>\n",
              "      <td>-0.139097</td>\n",
              "      <td>-0.055353</td>\n",
              "      <td>-0.059752</td>\n",
              "      <td>0</td>\n",
              "    </tr>\n",
              "    <tr>\n",
              "      <th>3</th>\n",
              "      <td>1.418291</td>\n",
              "      <td>-0.994972</td>\n",
              "      <td>-0.966272</td>\n",
              "      <td>-0.185226</td>\n",
              "      <td>1.792993</td>\n",
              "      <td>-0.863291</td>\n",
              "      <td>-0.010309</td>\n",
              "      <td>1.247203</td>\n",
              "      <td>0.237609</td>\n",
              "      <td>0.377436</td>\n",
              "      <td>-1.387024</td>\n",
              "      <td>-0.054952</td>\n",
              "      <td>-0.226487</td>\n",
              "      <td>0.178228</td>\n",
              "      <td>0.507757</td>\n",
              "      <td>-0.287924</td>\n",
              "      <td>-0.631418</td>\n",
              "      <td>-1.059647</td>\n",
              "      <td>-0.684093</td>\n",
              "      <td>1.965775</td>\n",
              "      <td>-1.232622</td>\n",
              "      <td>-0.208038</td>\n",
              "      <td>-0.108300</td>\n",
              "      <td>0.005274</td>\n",
              "      <td>-0.190321</td>\n",
              "      <td>-1.175575</td>\n",
              "      <td>0.647376</td>\n",
              "      <td>-0.221929</td>\n",
              "      <td>0.062723</td>\n",
              "      <td>0.061458</td>\n",
              "      <td>0</td>\n",
              "    </tr>\n",
              "    <tr>\n",
              "      <th>4</th>\n",
              "      <td>0.670579</td>\n",
              "      <td>-0.994960</td>\n",
              "      <td>-1.158233</td>\n",
              "      <td>0.877737</td>\n",
              "      <td>1.548718</td>\n",
              "      <td>0.403034</td>\n",
              "      <td>-0.407193</td>\n",
              "      <td>0.095921</td>\n",
              "      <td>0.592941</td>\n",
              "      <td>-0.270533</td>\n",
              "      <td>0.817739</td>\n",
              "      <td>0.753074</td>\n",
              "      <td>-0.822843</td>\n",
              "      <td>0.538196</td>\n",
              "      <td>1.345852</td>\n",
              "      <td>-1.119670</td>\n",
              "      <td>0.175121</td>\n",
              "      <td>-0.451449</td>\n",
              "      <td>-0.237033</td>\n",
              "      <td>-0.038195</td>\n",
              "      <td>0.803487</td>\n",
              "      <td>0.408542</td>\n",
              "      <td>-0.009431</td>\n",
              "      <td>0.798278</td>\n",
              "      <td>-0.137458</td>\n",
              "      <td>0.141267</td>\n",
              "      <td>-0.206010</td>\n",
              "      <td>0.502292</td>\n",
              "      <td>0.219422</td>\n",
              "      <td>0.215153</td>\n",
              "      <td>0</td>\n",
              "    </tr>\n",
              "  </tbody>\n",
              "</table>\n",
              "</div>"
            ],
            "text/plain": [
              "   scaled_amount  scaled_time        V1  ...       V27       V28  Class\n",
              "0       1.783274    -0.994983 -1.359807  ...  0.133558 -0.021053      0\n",
              "1      -0.269825    -0.994983  1.191857  ... -0.008983  0.014724      0\n",
              "2       4.983721    -0.994972 -1.358354  ... -0.055353 -0.059752      0\n",
              "3       1.418291    -0.994972 -0.966272  ...  0.062723  0.061458      0\n",
              "4       0.670579    -0.994960 -1.158233  ...  0.219422  0.215153      0\n",
              "\n",
              "[5 rows x 31 columns]"
            ]
          },
          "metadata": {
            "tags": []
          },
          "execution_count": 19
        }
      ]
    },
    {
      "cell_type": "markdown",
      "metadata": {
        "id": "qjuzqfRQFIHH",
        "colab_type": "text"
      },
      "source": [
        "## Splitting the Data (Original DataFrame)\n",
        "Before proceeding with the Random UnderSampling technique we have to separate the orginal dataframe. Why? for testing purposes, remember although we are splitting the data when implementing Random UnderSampling or OverSampling techniques, we want to test our models on the original testing set not on the testing set created by either of these techniques. The main goal is to fit the model either with the dataframes that were undersample and oversample (in order for our models to detect the patterns), and test it on the original testing set.\n",
        "\n",
        "#### 7. Split your data: you can make use of this link for more information: https://scikit-learn.org/stable/modules/generated/sklearn.model_selection.StratifiedShuffleSplit.html"
      ]
    },
    {
      "cell_type": "code",
      "metadata": {
        "id": "n_9wH9a7FIHI",
        "colab_type": "code",
        "outputId": "02ec01aa-aa14-4249-f58e-bf7f9d921e3f",
        "colab": {
          "base_uri": "https://localhost:8080/",
          "height": 161
        }
      },
      "source": [
        "from sklearn.model_selection import train_test_split\n",
        "from sklearn.model_selection import StratifiedShuffleSplit\n",
        "from sklearn.model_selection import StratifiedKFold\n",
        "\n",
        "X = df[df.columns[:-1]]\n",
        "y = df['Class']\n",
        "\n",
        "sss = StratifiedShuffleSplit(n_splits=5, test_size=0.2, random_state=42)\n",
        "print(sss.get_n_splits(X, y))\n",
        "\n",
        "for train_index, test_index in sss.split(X, y):\n",
        "  print(\"TRAIN:\", train_index, \"TEST:\", test_index)\n",
        "  original_Xtrain, original_Xtest = X.iloc[train_index], X.iloc[test_index]\n",
        "  original_ytrain, original_ytest = y.iloc[train_index], y.iloc[test_index]\n",
        "\n",
        "print(original_Xtrain.shape, original_ytrain.shape, original_Xtest.shape, original_ytest.shape)\n"
      ],
      "execution_count": 20,
      "outputs": [
        {
          "output_type": "stream",
          "text": [
            "5\n",
            "TRAIN: [265518 180305  42664 ...  29062  13766  17677] TEST: [263020  11378 147283 ... 274532 269819  64170]\n",
            "TRAIN: [ 72227 114282  16818 ... 264471 191914 284017] TEST: [202638  32978 128121 ... 244024 127667  48318]\n",
            "TRAIN: [ 20895 114622 167683 ... 244502 178972 218506] TEST: [284352  82483  90981 ... 171224 168807 271602]\n",
            "TRAIN: [122248 181660 194400 ... 104631 277586  29432] TEST: [225673  63348  68025 ... 279451  77554  76043]\n",
            "TRAIN: [241684 223467 136928 ...  86495 160550  49633] TEST: [157557 204860  83760 ... 251478 178967 216850]\n",
            "(227845, 30) (227845,) (56962, 30) (56962,)\n"
          ],
          "name": "stdout"
        }
      ]
    },
    {
      "cell_type": "markdown",
      "metadata": {
        "id": "YX4Q0LV7FIHO",
        "colab_type": "text"
      },
      "source": [
        "## Check the Distribution of the labels\n",
        "To do this we have to turn our data into an array and then see if train and test label are similarly distributed"
      ]
    },
    {
      "cell_type": "code",
      "metadata": {
        "id": "dJuIuzavFIHP",
        "colab_type": "code",
        "colab": {}
      },
      "source": [
        "# Turn into an array\n",
        "original_Xtrain = original_Xtrain.values\n",
        "original_Xtest = original_Xtest.values\n",
        "original_ytrain = original_ytrain.values\n",
        "original_ytest = original_ytest.values\n"
      ],
      "execution_count": 0,
      "outputs": []
    },
    {
      "cell_type": "code",
      "metadata": {
        "id": "03FmdupYFIHT",
        "colab_type": "code",
        "outputId": "08f50d9e-e5b7-48b9-dcd3-10c8da8c6809",
        "colab": {
          "base_uri": "https://localhost:8080/",
          "height": 105
        }
      },
      "source": [
        "# See if both the train and test label distribution are similarly distributed\n",
        "train_unique_label, train_counts_label = np.unique(original_ytrain, return_counts=True)\n",
        "test_unique_label, test_counts_label = np.unique(original_ytest, return_counts=True)\n",
        "print('-' * 100)\n",
        "\n",
        "print('Label Distributions: \\n')\n",
        "print(train_counts_label/ len(original_ytrain))\n",
        "print(test_counts_label/ len(original_ytest))"
      ],
      "execution_count": 22,
      "outputs": [
        {
          "output_type": "stream",
          "text": [
            "----------------------------------------------------------------------------------------------------\n",
            "Label Distributions: \n",
            "\n",
            "[0.99827075 0.00172925]\n",
            "[0.99827955 0.00172045]\n"
          ],
          "name": "stdout"
        }
      ]
    },
    {
      "cell_type": "markdown",
      "metadata": {
        "id": "rSV3oi-_FIHX",
        "colab_type": "text"
      },
      "source": [
        "## Random Under-Sampling:\n",
        "In this phase of the project we will implement \"Random Under Sampling\" which basically consists of removing data in order to have a more balanced dataset and thus avoiding our models to overfitting.\n",
        "\n",
        "Steps:\n",
        "\n",
        "The first thing we have to do is determine how imbalanced is our class (use \"value_counts()\" on the class column to determine the amount for each label)\n",
        "Once we determine how many instances are considered fraud transactions (Fraud = \"1\") , we should bring the non-fraud transactions to the same amount as fraud transactions (assuming we want a 50/50 ratio), this will be equivalent to 492 cases of fraud and 492 cases of non-fraud transactions.\n",
        "After implementing this technique, we have a sub-sample of our dataframe with a 50/50 ratio with regards to our classes. Then the next step we will implement is to shuffle the data to see if our models can maintain a certain accuracy everytime we run this script.\n",
        "\n",
        "Note: The main issue with \"Random Under-Sampling\" is that we run the risk that our classification models will not perform as accurate as we would like to since there is a great deal of information loss (bringing 492 non-fraud transaction from 284,315 non-fraud transaction)"
      ]
    },
    {
      "cell_type": "code",
      "metadata": {
        "id": "nRwIAljD4w-y",
        "colab_type": "code",
        "outputId": "2b6f1aa5-28f8-4e8e-83a3-00a1f1031d55",
        "colab": {
          "base_uri": "https://localhost:8080/",
          "height": 70
        }
      },
      "source": [
        "df.Class.value_counts()"
      ],
      "execution_count": 23,
      "outputs": [
        {
          "output_type": "execute_result",
          "data": {
            "text/plain": [
              "0    284315\n",
              "1       492\n",
              "Name: Class, dtype: int64"
            ]
          },
          "metadata": {
            "tags": []
          },
          "execution_count": 23
        }
      ]
    },
    {
      "cell_type": "code",
      "metadata": {
        "id": "fzYukDpUFIHY",
        "colab_type": "code",
        "outputId": "f8666ed7-b8c6-4b99-d31f-e351e1178ada",
        "colab": {
          "base_uri": "https://localhost:8080/",
          "height": 217
        }
      },
      "source": [
        "# Since our classes are highly skewed we should make them equivalent in order to have a normal distribution of the classes.\n",
        "\n",
        "# Lets shuffle the data before creating the subsamples\n",
        "\n",
        "df1 = df.sample(frac=1)\n",
        "\n",
        "# amount of fraud classes 492 rows.\n",
        "fraud_df = df1.loc[df1['Class'] == 1]\n",
        "non_fraud_df = df1.loc[df1['Class'] == 0][:492]\n",
        "\n",
        "normal_distributed_df = pd.concat([fraud_df, non_fraud_df])\n",
        "\n",
        "# Shuffle dataframe rows\n",
        "new_df = normal_distributed_df.sample(frac=1, random_state=42)\n",
        "\n",
        "new_df.head()"
      ],
      "execution_count": 24,
      "outputs": [
        {
          "output_type": "execute_result",
          "data": {
            "text/html": [
              "<div>\n",
              "<style scoped>\n",
              "    .dataframe tbody tr th:only-of-type {\n",
              "        vertical-align: middle;\n",
              "    }\n",
              "\n",
              "    .dataframe tbody tr th {\n",
              "        vertical-align: top;\n",
              "    }\n",
              "\n",
              "    .dataframe thead th {\n",
              "        text-align: right;\n",
              "    }\n",
              "</style>\n",
              "<table border=\"1\" class=\"dataframe\">\n",
              "  <thead>\n",
              "    <tr style=\"text-align: right;\">\n",
              "      <th></th>\n",
              "      <th>scaled_amount</th>\n",
              "      <th>scaled_time</th>\n",
              "      <th>V1</th>\n",
              "      <th>V2</th>\n",
              "      <th>V3</th>\n",
              "      <th>V4</th>\n",
              "      <th>V5</th>\n",
              "      <th>V6</th>\n",
              "      <th>V7</th>\n",
              "      <th>V8</th>\n",
              "      <th>V9</th>\n",
              "      <th>V10</th>\n",
              "      <th>V11</th>\n",
              "      <th>V12</th>\n",
              "      <th>V13</th>\n",
              "      <th>V14</th>\n",
              "      <th>V15</th>\n",
              "      <th>V16</th>\n",
              "      <th>V17</th>\n",
              "      <th>V18</th>\n",
              "      <th>V19</th>\n",
              "      <th>V20</th>\n",
              "      <th>V21</th>\n",
              "      <th>V22</th>\n",
              "      <th>V23</th>\n",
              "      <th>V24</th>\n",
              "      <th>V25</th>\n",
              "      <th>V26</th>\n",
              "      <th>V27</th>\n",
              "      <th>V28</th>\n",
              "      <th>Class</th>\n",
              "    </tr>\n",
              "  </thead>\n",
              "  <tbody>\n",
              "    <tr>\n",
              "      <th>118269</th>\n",
              "      <td>2.211137</td>\n",
              "      <td>-0.113664</td>\n",
              "      <td>1.115646</td>\n",
              "      <td>-0.948446</td>\n",
              "      <td>-0.131895</td>\n",
              "      <td>-0.862720</td>\n",
              "      <td>-0.936678</td>\n",
              "      <td>-0.954131</td>\n",
              "      <td>-0.017001</td>\n",
              "      <td>-0.382737</td>\n",
              "      <td>-1.071093</td>\n",
              "      <td>0.531277</td>\n",
              "      <td>-0.570106</td>\n",
              "      <td>0.256842</td>\n",
              "      <td>1.357056</td>\n",
              "      <td>-0.008261</td>\n",
              "      <td>0.819975</td>\n",
              "      <td>-1.207565</td>\n",
              "      <td>-0.143429</td>\n",
              "      <td>0.652359</td>\n",
              "      <td>-0.484199</td>\n",
              "      <td>-0.034239</td>\n",
              "      <td>-0.457395</td>\n",
              "      <td>-1.208041</td>\n",
              "      <td>-0.050562</td>\n",
              "      <td>0.098872</td>\n",
              "      <td>0.088376</td>\n",
              "      <td>1.267149</td>\n",
              "      <td>-0.123067</td>\n",
              "      <td>0.029554</td>\n",
              "      <td>0</td>\n",
              "    </tr>\n",
              "    <tr>\n",
              "      <th>58422</th>\n",
              "      <td>2.607140</td>\n",
              "      <td>-0.426603</td>\n",
              "      <td>-2.790771</td>\n",
              "      <td>-1.464269</td>\n",
              "      <td>1.031165</td>\n",
              "      <td>1.921356</td>\n",
              "      <td>-0.090014</td>\n",
              "      <td>-0.483871</td>\n",
              "      <td>0.780731</td>\n",
              "      <td>-0.348776</td>\n",
              "      <td>0.609133</td>\n",
              "      <td>0.225934</td>\n",
              "      <td>-1.064534</td>\n",
              "      <td>-0.787373</td>\n",
              "      <td>-1.576470</td>\n",
              "      <td>-0.126756</td>\n",
              "      <td>0.367012</td>\n",
              "      <td>-0.635322</td>\n",
              "      <td>0.327006</td>\n",
              "      <td>0.043816</td>\n",
              "      <td>1.403574</td>\n",
              "      <td>-1.376721</td>\n",
              "      <td>-0.392667</td>\n",
              "      <td>0.440020</td>\n",
              "      <td>0.777659</td>\n",
              "      <td>0.418552</td>\n",
              "      <td>0.244563</td>\n",
              "      <td>-0.159361</td>\n",
              "      <td>0.060540</td>\n",
              "      <td>0.356958</td>\n",
              "      <td>1</td>\n",
              "    </tr>\n",
              "    <tr>\n",
              "      <th>207206</th>\n",
              "      <td>-0.281003</td>\n",
              "      <td>0.609429</td>\n",
              "      <td>2.148813</td>\n",
              "      <td>-0.074116</td>\n",
              "      <td>-2.573260</td>\n",
              "      <td>-0.337782</td>\n",
              "      <td>1.000894</td>\n",
              "      <td>-0.596484</td>\n",
              "      <td>0.502468</td>\n",
              "      <td>-0.201749</td>\n",
              "      <td>0.256163</td>\n",
              "      <td>0.229731</td>\n",
              "      <td>0.094147</td>\n",
              "      <td>-0.291479</td>\n",
              "      <td>-1.828870</td>\n",
              "      <td>1.312787</td>\n",
              "      <td>0.016980</td>\n",
              "      <td>-0.166077</td>\n",
              "      <td>-0.654421</td>\n",
              "      <td>0.370749</td>\n",
              "      <td>0.644793</td>\n",
              "      <td>-0.302968</td>\n",
              "      <td>0.126097</td>\n",
              "      <td>0.365870</td>\n",
              "      <td>-0.086476</td>\n",
              "      <td>-0.105702</td>\n",
              "      <td>0.457918</td>\n",
              "      <td>0.247134</td>\n",
              "      <td>-0.104046</td>\n",
              "      <td>-0.094673</td>\n",
              "      <td>0</td>\n",
              "    </tr>\n",
              "    <tr>\n",
              "      <th>63421</th>\n",
              "      <td>1.089779</td>\n",
              "      <td>-0.399276</td>\n",
              "      <td>-8.461845</td>\n",
              "      <td>6.866198</td>\n",
              "      <td>-11.838269</td>\n",
              "      <td>4.194211</td>\n",
              "      <td>-6.923097</td>\n",
              "      <td>-3.221147</td>\n",
              "      <td>-7.553497</td>\n",
              "      <td>6.015618</td>\n",
              "      <td>-2.466143</td>\n",
              "      <td>-6.246243</td>\n",
              "      <td>2.943985</td>\n",
              "      <td>-6.512389</td>\n",
              "      <td>-0.698176</td>\n",
              "      <td>-7.543646</td>\n",
              "      <td>0.926455</td>\n",
              "      <td>-4.330295</td>\n",
              "      <td>-7.339698</td>\n",
              "      <td>-2.550901</td>\n",
              "      <td>0.645905</td>\n",
              "      <td>0.814710</td>\n",
              "      <td>0.918244</td>\n",
              "      <td>-0.715366</td>\n",
              "      <td>0.210747</td>\n",
              "      <td>-0.060211</td>\n",
              "      <td>0.509535</td>\n",
              "      <td>-0.257284</td>\n",
              "      <td>1.170027</td>\n",
              "      <td>0.229301</td>\n",
              "      <td>1</td>\n",
              "    </tr>\n",
              "    <tr>\n",
              "      <th>6472</th>\n",
              "      <td>-0.293440</td>\n",
              "      <td>-0.904052</td>\n",
              "      <td>1.023874</td>\n",
              "      <td>2.001485</td>\n",
              "      <td>-4.769752</td>\n",
              "      <td>3.819195</td>\n",
              "      <td>-1.271754</td>\n",
              "      <td>-1.734662</td>\n",
              "      <td>-3.059245</td>\n",
              "      <td>0.889805</td>\n",
              "      <td>0.415382</td>\n",
              "      <td>-3.955812</td>\n",
              "      <td>3.572055</td>\n",
              "      <td>-7.186452</td>\n",
              "      <td>0.147242</td>\n",
              "      <td>-5.249305</td>\n",
              "      <td>1.678334</td>\n",
              "      <td>-2.641473</td>\n",
              "      <td>-1.312059</td>\n",
              "      <td>-0.391716</td>\n",
              "      <td>1.118264</td>\n",
              "      <td>0.204138</td>\n",
              "      <td>0.343283</td>\n",
              "      <td>-0.054196</td>\n",
              "      <td>0.709654</td>\n",
              "      <td>-0.372216</td>\n",
              "      <td>-2.032068</td>\n",
              "      <td>0.366778</td>\n",
              "      <td>0.395171</td>\n",
              "      <td>0.020206</td>\n",
              "      <td>1</td>\n",
              "    </tr>\n",
              "  </tbody>\n",
              "</table>\n",
              "</div>"
            ],
            "text/plain": [
              "        scaled_amount  scaled_time        V1  ...       V27       V28  Class\n",
              "118269       2.211137    -0.113664  1.115646  ... -0.123067  0.029554      0\n",
              "58422        2.607140    -0.426603 -2.790771  ...  0.060540  0.356958      1\n",
              "207206      -0.281003     0.609429  2.148813  ... -0.104046 -0.094673      0\n",
              "63421        1.089779    -0.399276 -8.461845  ...  1.170027  0.229301      1\n",
              "6472        -0.293440    -0.904052  1.023874  ...  0.395171  0.020206      1\n",
              "\n",
              "[5 rows x 31 columns]"
            ]
          },
          "metadata": {
            "tags": []
          },
          "execution_count": 24
        }
      ]
    },
    {
      "cell_type": "code",
      "metadata": {
        "id": "WqKhvyIXAiHU",
        "colab_type": "code",
        "outputId": "c58cd7bd-439a-415d-8c3c-73a776bbf8ad",
        "colab": {
          "base_uri": "https://localhost:8080/",
          "height": 977
        }
      },
      "source": [
        "new_df.describe().T"
      ],
      "execution_count": 25,
      "outputs": [
        {
          "output_type": "execute_result",
          "data": {
            "text/html": [
              "<div>\n",
              "<style scoped>\n",
              "    .dataframe tbody tr th:only-of-type {\n",
              "        vertical-align: middle;\n",
              "    }\n",
              "\n",
              "    .dataframe tbody tr th {\n",
              "        vertical-align: top;\n",
              "    }\n",
              "\n",
              "    .dataframe thead th {\n",
              "        text-align: right;\n",
              "    }\n",
              "</style>\n",
              "<table border=\"1\" class=\"dataframe\">\n",
              "  <thead>\n",
              "    <tr style=\"text-align: right;\">\n",
              "      <th></th>\n",
              "      <th>count</th>\n",
              "      <th>mean</th>\n",
              "      <th>std</th>\n",
              "      <th>min</th>\n",
              "      <th>25%</th>\n",
              "      <th>50%</th>\n",
              "      <th>75%</th>\n",
              "      <th>max</th>\n",
              "    </tr>\n",
              "  </thead>\n",
              "  <tbody>\n",
              "    <tr>\n",
              "      <th>scaled_amount</th>\n",
              "      <td>984.0</td>\n",
              "      <td>1.179832</td>\n",
              "      <td>3.429083</td>\n",
              "      <td>-0.307413</td>\n",
              "      <td>-0.289772</td>\n",
              "      <td>-0.041920</td>\n",
              "      <td>1.089779</td>\n",
              "      <td>33.589744</td>\n",
              "    </tr>\n",
              "    <tr>\n",
              "      <th>scaled_time</th>\n",
              "      <td>984.0</td>\n",
              "      <td>0.036084</td>\n",
              "      <td>0.570095</td>\n",
              "      <td>-0.993491</td>\n",
              "      <td>-0.484372</td>\n",
              "      <td>-0.039345</td>\n",
              "      <td>0.590150</td>\n",
              "      <td>1.020336</td>\n",
              "    </tr>\n",
              "    <tr>\n",
              "      <th>V1</th>\n",
              "      <td>984.0</td>\n",
              "      <td>-2.301299</td>\n",
              "      <td>5.506776</td>\n",
              "      <td>-30.552380</td>\n",
              "      <td>-2.742724</td>\n",
              "      <td>-0.736548</td>\n",
              "      <td>1.079751</td>\n",
              "      <td>2.352060</td>\n",
              "    </tr>\n",
              "    <tr>\n",
              "      <th>V2</th>\n",
              "      <td>984.0</td>\n",
              "      <td>1.794061</td>\n",
              "      <td>3.668456</td>\n",
              "      <td>-8.402154</td>\n",
              "      <td>-0.167616</td>\n",
              "      <td>0.964356</td>\n",
              "      <td>2.777569</td>\n",
              "      <td>22.057729</td>\n",
              "    </tr>\n",
              "    <tr>\n",
              "      <th>V3</th>\n",
              "      <td>984.0</td>\n",
              "      <td>-3.530995</td>\n",
              "      <td>6.212411</td>\n",
              "      <td>-31.103685</td>\n",
              "      <td>-5.084967</td>\n",
              "      <td>-1.351543</td>\n",
              "      <td>0.339869</td>\n",
              "      <td>3.667979</td>\n",
              "    </tr>\n",
              "    <tr>\n",
              "      <th>V4</th>\n",
              "      <td>984.0</td>\n",
              "      <td>2.206386</td>\n",
              "      <td>3.247224</td>\n",
              "      <td>-3.483210</td>\n",
              "      <td>-0.235065</td>\n",
              "      <td>1.269078</td>\n",
              "      <td>4.233821</td>\n",
              "      <td>12.114672</td>\n",
              "    </tr>\n",
              "    <tr>\n",
              "      <th>V5</th>\n",
              "      <td>984.0</td>\n",
              "      <td>-1.535248</td>\n",
              "      <td>4.223679</td>\n",
              "      <td>-22.105532</td>\n",
              "      <td>-1.775001</td>\n",
              "      <td>-0.435876</td>\n",
              "      <td>0.620448</td>\n",
              "      <td>11.095089</td>\n",
              "    </tr>\n",
              "    <tr>\n",
              "      <th>V6</th>\n",
              "      <td>984.0</td>\n",
              "      <td>-0.674681</td>\n",
              "      <td>1.778837</td>\n",
              "      <td>-7.585197</td>\n",
              "      <td>-1.551056</td>\n",
              "      <td>-0.634180</td>\n",
              "      <td>0.034390</td>\n",
              "      <td>6.474115</td>\n",
              "    </tr>\n",
              "    <tr>\n",
              "      <th>V7</th>\n",
              "      <td>984.0</td>\n",
              "      <td>-2.760059</td>\n",
              "      <td>5.864002</td>\n",
              "      <td>-43.557242</td>\n",
              "      <td>-3.066415</td>\n",
              "      <td>-0.617072</td>\n",
              "      <td>0.311947</td>\n",
              "      <td>8.943941</td>\n",
              "    </tr>\n",
              "    <tr>\n",
              "      <th>V8</th>\n",
              "      <td>984.0</td>\n",
              "      <td>0.305748</td>\n",
              "      <td>4.843533</td>\n",
              "      <td>-41.044261</td>\n",
              "      <td>-0.194915</td>\n",
              "      <td>0.147194</td>\n",
              "      <td>0.866886</td>\n",
              "      <td>20.007208</td>\n",
              "    </tr>\n",
              "    <tr>\n",
              "      <th>V9</th>\n",
              "      <td>984.0</td>\n",
              "      <td>-1.307692</td>\n",
              "      <td>2.297327</td>\n",
              "      <td>-13.434066</td>\n",
              "      <td>-2.298358</td>\n",
              "      <td>-0.718373</td>\n",
              "      <td>0.165453</td>\n",
              "      <td>4.225156</td>\n",
              "    </tr>\n",
              "    <tr>\n",
              "      <th>V10</th>\n",
              "      <td>984.0</td>\n",
              "      <td>-2.833201</td>\n",
              "      <td>4.528183</td>\n",
              "      <td>-24.588262</td>\n",
              "      <td>-4.572043</td>\n",
              "      <td>-0.889148</td>\n",
              "      <td>0.033798</td>\n",
              "      <td>6.420005</td>\n",
              "    </tr>\n",
              "    <tr>\n",
              "      <th>V11</th>\n",
              "      <td>984.0</td>\n",
              "      <td>1.923028</td>\n",
              "      <td>2.761280</td>\n",
              "      <td>-2.615245</td>\n",
              "      <td>-0.147367</td>\n",
              "      <td>1.163121</td>\n",
              "      <td>3.586130</td>\n",
              "      <td>12.018913</td>\n",
              "    </tr>\n",
              "    <tr>\n",
              "      <th>V12</th>\n",
              "      <td>984.0</td>\n",
              "      <td>-3.143551</td>\n",
              "      <td>4.578916</td>\n",
              "      <td>-18.683715</td>\n",
              "      <td>-5.495221</td>\n",
              "      <td>-0.865272</td>\n",
              "      <td>0.143843</td>\n",
              "      <td>2.033567</td>\n",
              "    </tr>\n",
              "    <tr>\n",
              "      <th>V13</th>\n",
              "      <td>984.0</td>\n",
              "      <td>-0.035954</td>\n",
              "      <td>1.056152</td>\n",
              "      <td>-3.127795</td>\n",
              "      <td>-0.782955</td>\n",
              "      <td>-0.026800</td>\n",
              "      <td>0.709973</td>\n",
              "      <td>3.551350</td>\n",
              "    </tr>\n",
              "    <tr>\n",
              "      <th>V14</th>\n",
              "      <td>984.0</td>\n",
              "      <td>-3.490261</td>\n",
              "      <td>4.655637</td>\n",
              "      <td>-19.214325</td>\n",
              "      <td>-6.750005</td>\n",
              "      <td>-0.948285</td>\n",
              "      <td>0.098307</td>\n",
              "      <td>3.442422</td>\n",
              "    </tr>\n",
              "    <tr>\n",
              "      <th>V15</th>\n",
              "      <td>984.0</td>\n",
              "      <td>-0.006878</td>\n",
              "      <td>0.954572</td>\n",
              "      <td>-4.498945</td>\n",
              "      <td>-0.551682</td>\n",
              "      <td>0.053512</td>\n",
              "      <td>0.656749</td>\n",
              "      <td>2.471358</td>\n",
              "    </tr>\n",
              "    <tr>\n",
              "      <th>V16</th>\n",
              "      <td>984.0</td>\n",
              "      <td>-2.044280</td>\n",
              "      <td>3.495314</td>\n",
              "      <td>-14.129855</td>\n",
              "      <td>-3.543426</td>\n",
              "      <td>-0.546925</td>\n",
              "      <td>0.341386</td>\n",
              "      <td>3.433571</td>\n",
              "    </tr>\n",
              "    <tr>\n",
              "      <th>V17</th>\n",
              "      <td>984.0</td>\n",
              "      <td>-3.341550</td>\n",
              "      <td>5.971156</td>\n",
              "      <td>-25.162799</td>\n",
              "      <td>-5.302111</td>\n",
              "      <td>-0.574772</td>\n",
              "      <td>0.172093</td>\n",
              "      <td>6.739384</td>\n",
              "    </tr>\n",
              "    <tr>\n",
              "      <th>V18</th>\n",
              "      <td>984.0</td>\n",
              "      <td>-1.121406</td>\n",
              "      <td>2.406770</td>\n",
              "      <td>-9.498746</td>\n",
              "      <td>-1.772498</td>\n",
              "      <td>-0.355212</td>\n",
              "      <td>0.340906</td>\n",
              "      <td>3.790316</td>\n",
              "    </tr>\n",
              "    <tr>\n",
              "      <th>V19</th>\n",
              "      <td>984.0</td>\n",
              "      <td>0.319260</td>\n",
              "      <td>1.277169</td>\n",
              "      <td>-3.681904</td>\n",
              "      <td>-0.478879</td>\n",
              "      <td>0.206953</td>\n",
              "      <td>0.930995</td>\n",
              "      <td>5.228342</td>\n",
              "    </tr>\n",
              "    <tr>\n",
              "      <th>V20</th>\n",
              "      <td>984.0</td>\n",
              "      <td>0.202059</td>\n",
              "      <td>1.047154</td>\n",
              "      <td>-4.128186</td>\n",
              "      <td>-0.185581</td>\n",
              "      <td>0.017936</td>\n",
              "      <td>0.425257</td>\n",
              "      <td>11.059004</td>\n",
              "    </tr>\n",
              "    <tr>\n",
              "      <th>V21</th>\n",
              "      <td>984.0</td>\n",
              "      <td>0.357649</td>\n",
              "      <td>2.786327</td>\n",
              "      <td>-22.797604</td>\n",
              "      <td>-0.162836</td>\n",
              "      <td>0.148242</td>\n",
              "      <td>0.652748</td>\n",
              "      <td>27.202839</td>\n",
              "    </tr>\n",
              "    <tr>\n",
              "      <th>V22</th>\n",
              "      <td>984.0</td>\n",
              "      <td>-0.009817</td>\n",
              "      <td>1.158652</td>\n",
              "      <td>-8.887017</td>\n",
              "      <td>-0.557135</td>\n",
              "      <td>-0.012073</td>\n",
              "      <td>0.553457</td>\n",
              "      <td>8.361985</td>\n",
              "    </tr>\n",
              "    <tr>\n",
              "      <th>V23</th>\n",
              "      <td>984.0</td>\n",
              "      <td>-0.016415</td>\n",
              "      <td>1.148262</td>\n",
              "      <td>-19.254328</td>\n",
              "      <td>-0.238894</td>\n",
              "      <td>-0.023550</td>\n",
              "      <td>0.199231</td>\n",
              "      <td>5.466230</td>\n",
              "    </tr>\n",
              "    <tr>\n",
              "      <th>V24</th>\n",
              "      <td>984.0</td>\n",
              "      <td>-0.066795</td>\n",
              "      <td>0.561205</td>\n",
              "      <td>-2.306459</td>\n",
              "      <td>-0.415655</td>\n",
              "      <td>0.007508</td>\n",
              "      <td>0.359507</td>\n",
              "      <td>1.245092</td>\n",
              "    </tr>\n",
              "    <tr>\n",
              "      <th>V25</th>\n",
              "      <td>984.0</td>\n",
              "      <td>0.004128</td>\n",
              "      <td>0.653998</td>\n",
              "      <td>-4.781606</td>\n",
              "      <td>-0.328298</td>\n",
              "      <td>0.038024</td>\n",
              "      <td>0.376982</td>\n",
              "      <td>2.208209</td>\n",
              "    </tr>\n",
              "    <tr>\n",
              "      <th>V26</th>\n",
              "      <td>984.0</td>\n",
              "      <td>0.012176</td>\n",
              "      <td>0.460635</td>\n",
              "      <td>-1.152671</td>\n",
              "      <td>-0.290583</td>\n",
              "      <td>-0.033472</td>\n",
              "      <td>0.281262</td>\n",
              "      <td>2.745261</td>\n",
              "    </tr>\n",
              "    <tr>\n",
              "      <th>V27</th>\n",
              "      <td>984.0</td>\n",
              "      <td>0.073754</td>\n",
              "      <td>0.997592</td>\n",
              "      <td>-7.263482</td>\n",
              "      <td>-0.071774</td>\n",
              "      <td>0.040283</td>\n",
              "      <td>0.426828</td>\n",
              "      <td>3.052358</td>\n",
              "    </tr>\n",
              "    <tr>\n",
              "      <th>V28</th>\n",
              "      <td>984.0</td>\n",
              "      <td>0.036645</td>\n",
              "      <td>0.411236</td>\n",
              "      <td>-1.869290</td>\n",
              "      <td>-0.053147</td>\n",
              "      <td>0.032527</td>\n",
              "      <td>0.212081</td>\n",
              "      <td>1.779364</td>\n",
              "    </tr>\n",
              "    <tr>\n",
              "      <th>Class</th>\n",
              "      <td>984.0</td>\n",
              "      <td>0.500000</td>\n",
              "      <td>0.500254</td>\n",
              "      <td>0.000000</td>\n",
              "      <td>0.000000</td>\n",
              "      <td>0.500000</td>\n",
              "      <td>1.000000</td>\n",
              "      <td>1.000000</td>\n",
              "    </tr>\n",
              "  </tbody>\n",
              "</table>\n",
              "</div>"
            ],
            "text/plain": [
              "               count      mean       std  ...       50%       75%        max\n",
              "scaled_amount  984.0  1.179832  3.429083  ... -0.041920  1.089779  33.589744\n",
              "scaled_time    984.0  0.036084  0.570095  ... -0.039345  0.590150   1.020336\n",
              "V1             984.0 -2.301299  5.506776  ... -0.736548  1.079751   2.352060\n",
              "V2             984.0  1.794061  3.668456  ...  0.964356  2.777569  22.057729\n",
              "V3             984.0 -3.530995  6.212411  ... -1.351543  0.339869   3.667979\n",
              "V4             984.0  2.206386  3.247224  ...  1.269078  4.233821  12.114672\n",
              "V5             984.0 -1.535248  4.223679  ... -0.435876  0.620448  11.095089\n",
              "V6             984.0 -0.674681  1.778837  ... -0.634180  0.034390   6.474115\n",
              "V7             984.0 -2.760059  5.864002  ... -0.617072  0.311947   8.943941\n",
              "V8             984.0  0.305748  4.843533  ...  0.147194  0.866886  20.007208\n",
              "V9             984.0 -1.307692  2.297327  ... -0.718373  0.165453   4.225156\n",
              "V10            984.0 -2.833201  4.528183  ... -0.889148  0.033798   6.420005\n",
              "V11            984.0  1.923028  2.761280  ...  1.163121  3.586130  12.018913\n",
              "V12            984.0 -3.143551  4.578916  ... -0.865272  0.143843   2.033567\n",
              "V13            984.0 -0.035954  1.056152  ... -0.026800  0.709973   3.551350\n",
              "V14            984.0 -3.490261  4.655637  ... -0.948285  0.098307   3.442422\n",
              "V15            984.0 -0.006878  0.954572  ...  0.053512  0.656749   2.471358\n",
              "V16            984.0 -2.044280  3.495314  ... -0.546925  0.341386   3.433571\n",
              "V17            984.0 -3.341550  5.971156  ... -0.574772  0.172093   6.739384\n",
              "V18            984.0 -1.121406  2.406770  ... -0.355212  0.340906   3.790316\n",
              "V19            984.0  0.319260  1.277169  ...  0.206953  0.930995   5.228342\n",
              "V20            984.0  0.202059  1.047154  ...  0.017936  0.425257  11.059004\n",
              "V21            984.0  0.357649  2.786327  ...  0.148242  0.652748  27.202839\n",
              "V22            984.0 -0.009817  1.158652  ... -0.012073  0.553457   8.361985\n",
              "V23            984.0 -0.016415  1.148262  ... -0.023550  0.199231   5.466230\n",
              "V24            984.0 -0.066795  0.561205  ...  0.007508  0.359507   1.245092\n",
              "V25            984.0  0.004128  0.653998  ...  0.038024  0.376982   2.208209\n",
              "V26            984.0  0.012176  0.460635  ... -0.033472  0.281262   2.745261\n",
              "V27            984.0  0.073754  0.997592  ...  0.040283  0.426828   3.052358\n",
              "V28            984.0  0.036645  0.411236  ...  0.032527  0.212081   1.779364\n",
              "Class          984.0  0.500000  0.500254  ...  0.500000  1.000000   1.000000\n",
              "\n",
              "[31 rows x 8 columns]"
            ]
          },
          "metadata": {
            "tags": []
          },
          "execution_count": 25
        }
      ]
    },
    {
      "cell_type": "markdown",
      "metadata": {
        "id": "3_LcZwafFIHb",
        "colab_type": "text"
      },
      "source": [
        "## Equally Distributing and Correlating:\n",
        "Now that we have our dataframe correctly balanced, we can go further with our analysis and data preprocessing."
      ]
    },
    {
      "cell_type": "code",
      "metadata": {
        "id": "WuNKLQGzFIHc",
        "colab_type": "code",
        "outputId": "4ff00748-c697-4f4e-a531-0c733a3857a8",
        "colab": {
          "base_uri": "https://localhost:8080/",
          "height": 373
        }
      },
      "source": [
        "print('Distribution of the Classes in the subsample dataset')\n",
        "print(new_df['Class'].value_counts()/len(new_df))\n",
        "\n",
        "sns.countplot('Class', data=new_df, palette=colors)\n",
        "plt.title('Equally Distributed Classes', fontsize=14)\n",
        "plt.show()"
      ],
      "execution_count": 26,
      "outputs": [
        {
          "output_type": "stream",
          "text": [
            "Distribution of the Classes in the subsample dataset\n",
            "1    0.5\n",
            "0    0.5\n",
            "Name: Class, dtype: float64\n"
          ],
          "name": "stdout"
        },
        {
          "output_type": "display_data",
          "data": {
            "image/png": "[encoded data removed]",
            "text/plain": [
              "<Figure size 432x288 with 1 Axes>"
            ]
          },
          "metadata": {
            "tags": []
          }
        }
      ]
    },
    {
      "cell_type": "markdown",
      "metadata": {
        "id": "D0T8VrjXFIHg",
        "colab_type": "text"
      },
      "source": [
        "## Correlation Matrices"
      ]
    },
    {
      "cell_type": "code",
      "metadata": {
        "id": "prRLx2MDFIHi",
        "colab_type": "code",
        "outputId": "400bab10-7673-4f52-c461-9556bea5cd06",
        "colab": {
          "base_uri": "https://localhost:8080/",
          "height": 741
        }
      },
      "source": [
        "# Make sure we use the subsample in our correlation\n",
        "\n",
        "f, (ax1, ax2) = plt.subplots(2, 1, figsize=(24,20))\n",
        "\n",
        "# Entire DataFrame\n",
        "corr = df1.corr().round(2)\n",
        "sns.heatmap(data=corr, cmap='coolwarm_r', annot_kws={'size':20}, ax=ax1)\n",
        "ax1.set_title(\"Imbalanced Correlation Matrix \\n (don't use for reference)\", fontsize=14)\n",
        "\n",
        "\n",
        "sub_sample_corr =new_df.corr().round(2)\n",
        "sns.heatmap(data=sub_sample_corr, cmap='coolwarm_r', annot_kws={'size':20}, ax=ax2)\n",
        "ax2.set_title('SubSample Correlation Matrix \\n (use for reference)', fontsize=14)\n",
        "plt.show()"
      ],
      "execution_count": 27,
      "outputs": [
        {
          "output_type": "display_data",
          "data": {
            "image/png": "[encoded data removed]",
            "text/plain": [
              "<Figure size 1728x1440 with 4 Axes>"
            ]
          },
          "metadata": {
            "tags": []
          }
        }
      ]
    },
    {
      "cell_type": "markdown",
      "metadata": {
        "id": "jfdOFwyoFIHt",
        "colab_type": "text"
      },
      "source": [
        "Comment\n",
        "\n",
        "\n"
      ]
    },
    {
      "cell_type": "markdown",
      "metadata": {
        "id": "16w-DG5uFIHw",
        "colab_type": "text"
      },
      "source": [
        "## Anomaly Detection:"
      ]
    },
    {
      "cell_type": "code",
      "metadata": {
        "id": "wvzwUbAHFIHz",
        "colab_type": "code",
        "outputId": "c997cf3b-6f62-43f4-e042-cfd31942ae8b",
        "colab": {
          "base_uri": "https://localhost:8080/",
          "height": 277
        }
      },
      "source": [
        "from scipy.stats import norm\n",
        "\n",
        "f, (ax1, ax2, ax3) = plt.subplots(1,3, figsize=(20, 6))\n",
        "\n",
        "v14_fraud_dist = new_df['V14'].loc[new_df['Class'] == 1].values\n",
        "sns.distplot(v14_fraud_dist,ax=ax1, fit=norm, color='#FB8861')\n",
        "ax1.set_title('V14 Distribution \\n (Fraud Transactions)', fontsize=14)\n",
        "\n",
        "v12_fraud_dist = new_df['V12'].loc[new_df['Class'] == 1].values\n",
        "sns.distplot(v12_fraud_dist,ax=ax2, fit=norm, color='#56F9BB')\n",
        "ax2.set_title('V12 Distribution \\n (Fraud Transactions)', fontsize=14)\n",
        "\n",
        "\n",
        "v10_fraud_dist = new_df['V10'].loc[new_df['Class'] == 1].values\n",
        "sns.distplot(v10_fraud_dist,ax=ax3, fit=norm, color='#C5B3F9')\n",
        "ax3.set_title('V10 Distribution \\n (Fraud Transactions)', fontsize=14)\n",
        "\n",
        "plt.show()"
      ],
      "execution_count": 28,
      "outputs": [
        {
          "output_type": "display_data",
          "data": {
            "image/png": "[encoded data removed]",
            "text/plain": [
              "<Figure size 1440x432 with 3 Axes>"
            ]
          },
          "metadata": {
            "tags": []
          }
        }
      ]
    },
    {
      "cell_type": "code",
      "metadata": {
        "id": "cTvhCtWUFnje",
        "colab_type": "code",
        "outputId": "9b0e0970-c27a-4861-d9fc-73f058107a0b",
        "colab": {
          "base_uri": "https://localhost:8080/",
          "height": 302
        }
      },
      "source": [
        "f, (ax1, ax2, ax3) = plt.subplots(1,3, figsize=(20, 6))\n",
        "\n",
        "\n",
        "sns.boxplot(v14_fraud_dist,ax=ax1, color='#FB8861')\n",
        "ax1.set_title('V14 Box Plot \\n (Fraud Transactions)', fontsize=14)\n",
        "\n",
        "sns.boxplot(v12_fraud_dist,ax=ax2,color='#56F9BB')\n",
        "ax2.set_title('V12 Box Plot \\n (Fraud Transactions)', fontsize=14)\n",
        "\n",
        "\n",
        "sns.boxplot(v10_fraud_dist,ax=ax3,color='#C5B3F9')\n",
        "ax3.set_title('V10 Box Plot \\n (Fraud Transactions)', fontsize=14)"
      ],
      "execution_count": 29,
      "outputs": [
        {
          "output_type": "execute_result",
          "data": {
            "text/plain": [
              "Text(0.5, 1.0, 'V10 Box Plot \\n (Fraud Transactions)')"
            ]
          },
          "metadata": {
            "tags": []
          },
          "execution_count": 29
        },
        {
          "output_type": "display_data",
          "data": {
            "image/png": "[encoded data removed]",
            "text/plain": [
              "<Figure size 1440x432 with 3 Axes>"
            ]
          },
          "metadata": {
            "tags": []
          }
        }
      ]
    },
    {
      "cell_type": "markdown",
      "metadata": {
        "id": "kvnZ-IgZFIIG",
        "colab_type": "text"
      },
      "source": [
        "## Classifiers (UnderSampling)"
      ]
    },
    {
      "cell_type": "code",
      "metadata": {
        "id": "EEL3xV7EFIIH",
        "colab_type": "code",
        "outputId": "71af8485-6f10-41e7-9116-6371eb68cd9f",
        "colab": {
          "base_uri": "https://localhost:8080/",
          "height": 34
        }
      },
      "source": [
        "# Undersampling before cross validating (prone to overfit)\n",
        "X = new_df.drop('Class', axis=1)\n",
        "y = new_df['Class']\n",
        "\n",
        "# Our data is already scaled we should split our training and test sets\n",
        "from sklearn.model_selection import train_test_split\n",
        "\n",
        "# This is explicitly used for undersampling.\n",
        "X_train, X_test, y_train, y_test = train_test_split(X, y, test_size=0.2, random_state=42)\n",
        "# Turn the values into an array for feeding the classification algorithms.\n",
        "X_train = X_train.values\n",
        "X_test = X_test.values\n",
        "y_train = y_train.values\n",
        "y_test = y_test.values\n",
        "\n",
        "# Let's implement simple classifiers: Logistic Regression, KNeighborsClassifier, SVC, Decision Tree Classifier\n",
        "print(X_train.shape, y_train.shape, X_test.shape, y_test.shape)\n"
      ],
      "execution_count": 31,
      "outputs": [
        {
          "output_type": "stream",
          "text": [
            "(787, 30) (787,) (197, 30) (197,)\n"
          ],
          "name": "stdout"
        }
      ]
    },
    {
      "cell_type": "code",
      "metadata": {
        "id": "j5DfJCXLFIIM",
        "colab_type": "code",
        "colab": {}
      },
      "source": [
        "# Wow our scores are getting even high scores even when applying cross validation.\n",
        "from sklearn.model_selection import cross_val_score"
      ],
      "execution_count": 0,
      "outputs": []
    },
    {
      "cell_type": "markdown",
      "metadata": {
        "id": "rNcPMEGfFIIP",
        "colab_type": "text"
      },
      "source": [
        "## Find the best parameter"
      ]
    },
    {
      "cell_type": "code",
      "metadata": {
        "id": "ppFLNH-9FIIQ",
        "colab_type": "code",
        "colab": {}
      },
      "source": [
        "# Use GridSearchCV to find the best parameters.\n",
        "from sklearn.model_selection import GridSearchCV\n",
        "\n",
        "\n",
        "# Logistic Regression \n",
        "log_reg_params = {\"penalty\": ['l1', 'l2'], 'C': [0.001, 0.01, 0.1, 1, 10, 100, 1000]}\n",
        "grid_log_reg = GridSearchCV(LogisticRegression(), log_reg_params)\n",
        "grid_log_reg.fit(X_train, y_train)\n",
        "\n",
        "# We automatically get the logistic regression with the best parameters.\n",
        "log_reg = grid_log_reg.best_estimator_"
      ],
      "execution_count": 0,
      "outputs": []
    },
    {
      "cell_type": "code",
      "metadata": {
        "id": "L3rkONpcHLP0",
        "colab_type": "code",
        "outputId": "7691809c-3030-43db-aa9f-10f529d87cb9",
        "colab": {
          "base_uri": "https://localhost:8080/",
          "height": 105
        }
      },
      "source": [
        "log_reg"
      ],
      "execution_count": 34,
      "outputs": [
        {
          "output_type": "execute_result",
          "data": {
            "text/plain": [
              "LogisticRegression(C=1000, class_weight=None, dual=False, fit_intercept=True,\n",
              "                   intercept_scaling=1, l1_ratio=None, max_iter=100,\n",
              "                   multi_class='auto', n_jobs=None, penalty='l2',\n",
              "                   random_state=None, solver='lbfgs', tol=0.0001, verbose=0,\n",
              "                   warm_start=False)"
            ]
          },
          "metadata": {
            "tags": []
          },
          "execution_count": 34
        }
      ]
    },
    {
      "cell_type": "code",
      "metadata": {
        "id": "vaY-CS74FIIV",
        "colab_type": "code",
        "outputId": "865467a9-b441-49aa-da87-2e4af1320d81",
        "colab": {
          "base_uri": "https://localhost:8080/",
          "height": 70
        }
      },
      "source": [
        "knears_params = {'algorithm':['auto', 'ball_tree', 'kd_tree', 'brute'], 'p': [1, 10, 100, 1000],\n",
        "                 'weights': ['uniform', 'distance'], 'n_neighbors': [5, 10, 15]}\n",
        "grid_knears = GridSearchCV(KNeighborsClassifier(), knears_params)\n",
        "grid_knears.fit(X_train, y_train)\n",
        "\n",
        "# KNears best estimator\n",
        "knears_neighbors = grid_knears.best_estimator_\n",
        "knears_neighbors"
      ],
      "execution_count": 35,
      "outputs": [
        {
          "output_type": "execute_result",
          "data": {
            "text/plain": [
              "KNeighborsClassifier(algorithm='auto', leaf_size=30, metric='minkowski',\n",
              "                     metric_params=None, n_jobs=None, n_neighbors=5, p=1,\n",
              "                     weights='uniform')"
            ]
          },
          "metadata": {
            "tags": []
          },
          "execution_count": 35
        }
      ]
    },
    {
      "cell_type": "code",
      "metadata": {
        "id": "G1wrDVmQFIIZ",
        "colab_type": "code",
        "outputId": "fdddb30d-3f19-4525-d3ed-d553731bb346",
        "colab": {
          "base_uri": "https://localhost:8080/",
          "height": 87
        }
      },
      "source": [
        "# Support Vector Classifier\n",
        "svc_params = {\"kernel\": ['linear', 'poly', 'rbf'], 'C': [0.001, 0.01, 0.1, 1, 10, 100, 1000],\n",
        "              'degree': [3, 5], 'gamma': ['scale', 'auto'], 'decision_function_shape': ['ovo', 'ovr']}\n",
        "grid_svc = GridSearchCV(SVC(), svc_params)\n",
        "grid_svc.fit(X_train, y_train)\n",
        "\n",
        "# SVC best estimator\n",
        "svc = grid_svc.best_estimator_\n",
        "svc"
      ],
      "execution_count": 36,
      "outputs": [
        {
          "output_type": "execute_result",
          "data": {
            "text/plain": [
              "SVC(C=10, break_ties=False, cache_size=200, class_weight=None, coef0=0.0,\n",
              "    decision_function_shape='ovo', degree=3, gamma='scale', kernel='rbf',\n",
              "    max_iter=-1, probability=False, random_state=None, shrinking=True,\n",
              "    tol=0.001, verbose=False)"
            ]
          },
          "metadata": {
            "tags": []
          },
          "execution_count": 36
        }
      ]
    },
    {
      "cell_type": "code",
      "metadata": {
        "id": "qrsNjFogFIIc",
        "colab_type": "code",
        "outputId": "90103740-919d-4169-919a-9cb60f2bea4a",
        "colab": {
          "base_uri": "https://localhost:8080/",
          "height": 123
        }
      },
      "source": [
        "# DecisionTree Classifier\n",
        "tree_params = {\"criterion\": ['gini', 'entropy'], 'min_weight_fraction_leaf': [0.001, 0.01, 0.1, 1, 10, 100, 1000]}\n",
        "grid_tree = GridSearchCV(DecisionTreeClassifier(), tree_params)\n",
        "grid_tree.fit(X_train, y_train)\n",
        "\n",
        "# tree best estimator\n",
        "tree_clf =  grid_tree.best_estimator_\n",
        "tree_clf"
      ],
      "execution_count": 37,
      "outputs": [
        {
          "output_type": "execute_result",
          "data": {
            "text/plain": [
              "DecisionTreeClassifier(ccp_alpha=0.0, class_weight=None, criterion='gini',\n",
              "                       max_depth=None, max_features=None, max_leaf_nodes=None,\n",
              "                       min_impurity_decrease=0.0, min_impurity_split=None,\n",
              "                       min_samples_leaf=1, min_samples_split=2,\n",
              "                       min_weight_fraction_leaf=0.01, presort='deprecated',\n",
              "                       random_state=None, splitter='best')"
            ]
          },
          "metadata": {
            "tags": []
          },
          "execution_count": 37
        }
      ]
    },
    {
      "cell_type": "code",
      "metadata": {
        "id": "w2zimuYzikl_",
        "colab_type": "code",
        "outputId": "76eed7f0-70ff-4ccf-dfea-7d6bd5f94b39",
        "colab": {
          "base_uri": "https://localhost:8080/",
          "height": 318
        }
      },
      "source": [
        "# Overfitting Case\n",
        "from sklearn.metrics import confusion_matrix\n",
        "\n",
        "log_reg_score = cross_val_score(log_reg, X_train, y_train, cv=5)\n",
        "print('Logistic Regression Cross Validation Score: ', round(log_reg_score.mean() * 100, 2).astype(str) + '%')\n",
        "y_test_pred =  log_reg.predict(X_test)\n",
        "\n",
        "plt.figure(figsize=(6,4))\n",
        "cm = confusion_matrix(y_test, y_test_pred)\n",
        "sns.heatmap(cm, annot = True, cbar = False, fmt = \"d\", linewidths = .5, cmap = \"Blues\")\n",
        "plt.xlabel(\"Predicted class\")\n",
        "plt.ylabel(\"Actual class\")\n",
        "plt.title(\"Confusion Matrix\");"
      ],
      "execution_count": 42,
      "outputs": [
        {
          "output_type": "stream",
          "text": [
            "Logistic Regression Cross Validation Score:  93.39%\n"
          ],
          "name": "stdout"
        },
        {
          "output_type": "display_data",
          "data": {
            "image/png": "[encoded data removed]",
            "text/plain": [
              "<Figure size 432x288 with 1 Axes>"
            ]
          },
          "metadata": {
            "tags": []
          }
        }
      ]
    },
    {
      "cell_type": "code",
      "metadata": {
        "id": "gk76e1iRi5JY",
        "colab_type": "code",
        "outputId": "14662c34-06da-44b1-c88b-9aad106a09d7",
        "colab": {
          "base_uri": "https://localhost:8080/",
          "height": 318
        }
      },
      "source": [
        "from sklearn.metrics import confusion_matrix\n",
        "knears_score = cross_val_score(knears_neighbors, X_train, y_train, cv=5)\n",
        "print('K-Neighbors Classifier Cross Validation Score: ', round(knears_score.mean() * 100, 2).astype(str) + '%')\n",
        "\n",
        "y_test_pred =  knears_neighbors.predict(X_test)\n",
        "\n",
        "plt.figure(figsize=(6,4))\n",
        "cm = confusion_matrix(y_test, y_test_pred)\n",
        "sns.heatmap(cm, annot = True, cbar = False, fmt = \"d\", linewidths = .5, cmap = \"Blues\")\n",
        "plt.xlabel(\"Predicted class\")\n",
        "plt.ylabel(\"Actual class\")\n",
        "plt.title(\"Confusion Matrix\");"
      ],
      "execution_count": 43,
      "outputs": [
        {
          "output_type": "stream",
          "text": [
            "K-Neighbors Classifier Cross Validation Score:  93.14%\n"
          ],
          "name": "stdout"
        },
        {
          "output_type": "display_data",
          "data": {
            "image/png": "[encoded data removed]",
            "text/plain": [
              "<Figure size 432x288 with 1 Axes>"
            ]
          },
          "metadata": {
            "tags": []
          }
        }
      ]
    },
    {
      "cell_type": "code",
      "metadata": {
        "id": "d35zHToKjATC",
        "colab_type": "code",
        "outputId": "6ad3450d-3d95-442f-ed85-026cf0f3631a",
        "colab": {
          "base_uri": "https://localhost:8080/",
          "height": 318
        }
      },
      "source": [
        "from sklearn.metrics import confusion_matrix\n",
        "svc_score = cross_val_score(svc, X_train, y_train, cv=5)\n",
        "print('SVC Cross Validation Score: ', round(svc_score.mean() * 100, 2).astype(str) + '%')\n",
        "\n",
        "y_test_pred =  svc.predict(X_test)\n",
        "\n",
        "plt.figure(figsize=(6,4))\n",
        "cm = confusion_matrix(y_test, y_test_pred)\n",
        "sns.heatmap(cm, annot = True, cbar = False, fmt = \"d\", linewidths = .5, cmap = \"Blues\")\n",
        "plt.xlabel(\"Predicted class\")\n",
        "plt.ylabel(\"Actual class\")\n",
        "plt.title(\"Confusion Matrix\");"
      ],
      "execution_count": 44,
      "outputs": [
        {
          "output_type": "stream",
          "text": [
            "SVC Cross Validation Score:  93.9%\n"
          ],
          "name": "stdout"
        },
        {
          "output_type": "display_data",
          "data": {
            "image/png": "[encoded data removed]",
            "text/plain": [
              "<Figure size 432x288 with 1 Axes>"
            ]
          },
          "metadata": {
            "tags": []
          }
        }
      ]
    },
    {
      "cell_type": "code",
      "metadata": {
        "id": "gVZ2JH8rjGRJ",
        "colab_type": "code",
        "outputId": "59046a48-9596-423f-8b67-9e3fcdc4da2c",
        "colab": {
          "base_uri": "https://localhost:8080/",
          "height": 318
        }
      },
      "source": [
        "from sklearn.metrics import confusion_matrix\n",
        "tree_score = cross_val_score(tree_clf, X_train, y_train, cv=5)\n",
        "print('Decision Tree Classifier Cross Validation Score: ', round(tree_score.mean() * 100, 2).astype(str) + '%')\n",
        "\n",
        "y_test_pred =  tree_clf.predict(X_test)\n",
        "\n",
        "plt.figure(figsize=(6,4))\n",
        "cm = confusion_matrix(y_test, y_test_pred)\n",
        "sns.heatmap(cm, annot = True, cbar = False, fmt = \"d\", linewidths = .5, cmap = \"Blues\")\n",
        "plt.xlabel(\"Predicted class\")\n",
        "plt.ylabel(\"Actual class\")\n",
        "plt.title(\"Confusion Matrix\");"
      ],
      "execution_count": 45,
      "outputs": [
        {
          "output_type": "stream",
          "text": [
            "Decision Tree Classifier Cross Validation Score:  91.61%\n"
          ],
          "name": "stdout"
        },
        {
          "output_type": "display_data",
          "data": {
            "image/png": "[encoded data removed]",
            "text/plain": [
              "<Figure size 432x288 with 1 Axes>"
            ]
          },
          "metadata": {
            "tags": []
          }
        }
      ]
    },
    {
      "cell_type": "markdown",
      "metadata": {
        "id": "OhAQrTm09gJw",
        "colab_type": "text"
      },
      "source": [
        "## NeverMiss Technique (Under-Sampling) Technique"
      ]
    },
    {
      "cell_type": "code",
      "metadata": {
        "id": "SPGISMFOFII3",
        "colab_type": "code",
        "outputId": "37c9e33b-43b3-4444-8439-b523b665b494",
        "colab": {
          "base_uri": "https://localhost:8080/",
          "height": 143
        }
      },
      "source": [
        "# We will undersample during cross validating\n",
        "undersample_X = df.drop('Class', axis=1)\n",
        "undersample_y = df['Class']\n",
        "\n",
        "for train_index, test_index in sss.split(undersample_X, undersample_y):\n",
        "    print(\"Train:\", train_index, \"Test:\", test_index)\n",
        "    undersample_Xtrain, undersample_Xtest = undersample_X.iloc[train_index], undersample_X.iloc[test_index]\n",
        "    undersample_ytrain, undersample_ytest = undersample_y.iloc[train_index], undersample_y.iloc[test_index]\n",
        "    \n",
        "undersample_Xtrain = undersample_Xtrain.values\n",
        "undersample_Xtest = undersample_Xtest.values\n",
        "undersample_ytrain = undersample_ytrain.values\n",
        "undersample_ytest = undersample_ytest.values \n",
        "\n",
        "print(undersample_Xtrain.shape, undersample_ytrain.shape, undersample_Xtest.shape, undersample_ytest.shape)\n"
      ],
      "execution_count": 46,
      "outputs": [
        {
          "output_type": "stream",
          "text": [
            "Train: [265518 180305  42664 ...  29062  13766  17677] Test: [263020  11378 147283 ... 274532 269819  64170]\n",
            "Train: [ 72227 114282  16818 ... 264471 191914 284017] Test: [202638  32978 128121 ... 244024 127667  48318]\n",
            "Train: [ 20895 114622 167683 ... 244502 178972 218506] Test: [284352  82483  90981 ... 171224 168807 271602]\n",
            "Train: [122248 181660 194400 ... 104631 277586  29432] Test: [225673  63348  68025 ... 279451  77554  76043]\n",
            "Train: [241684 223467 136928 ...  86495 160550  49633] Test: [157557 204860  83760 ... 251478 178967 216850]\n",
            "(227845, 30) (227845,) (56962, 30) (56962,)\n"
          ],
          "name": "stdout"
        }
      ]
    },
    {
      "cell_type": "code",
      "metadata": {
        "id": "GegAI02WgdDx",
        "colab_type": "code",
        "outputId": "7c168f00-9548-4d80-ee97-53af1ba18f42",
        "colab": {
          "base_uri": "https://localhost:8080/",
          "height": 34
        }
      },
      "source": [
        "undersample_accuracy = []\n",
        "undersample_precision = []\n",
        "undersample_recall = []\n",
        "undersample_f1 = []\n",
        "undersample_auc = []\n",
        "\n",
        "# Implementing NearMiss Technique \n",
        "# Distribution of NearMiss (Just to see how it distributes the labels we won't use these variables)\n",
        "X_nearmiss, y_nearmiss = NearMiss().fit_sample(undersample_X.values, undersample_y.values)\n",
        "print('NearMiss Label Distribution: {}'.format(Counter(y_nearmiss)))\n",
        "# Cross Validating the right way\n"
      ],
      "execution_count": 47,
      "outputs": [
        {
          "output_type": "stream",
          "text": [
            "NearMiss Label Distribution: Counter({0: 492, 1: 492})\n"
          ],
          "name": "stdout"
        }
      ]
    },
    {
      "cell_type": "code",
      "metadata": {
        "id": "H9Rk-676gys6",
        "colab_type": "code",
        "colab": {}
      },
      "source": [
        "for train, test in sss.split(undersample_Xtrain, undersample_ytrain):\n",
        "    undersample_pipeline = imbalanced_make_pipeline(NearMiss(sampling_strategy='majority'), log_reg) # SMOTE happens during Cross Validation not before..\n",
        "    undersample_model = undersample_pipeline.fit(undersample_Xtrain[train], undersample_ytrain[train])\n",
        "    undersample_prediction = undersample_model.predict(undersample_Xtrain[test])\n",
        "    \n",
        "    undersample_accuracy.append(undersample_pipeline.score(original_Xtrain[test], original_ytrain[test]))\n",
        "    undersample_precision.append(precision_score(original_ytrain[test], undersample_prediction))\n",
        "    undersample_recall.append(recall_score(original_ytrain[test], undersample_prediction))\n",
        "    undersample_f1.append(f1_score(original_ytrain[test], undersample_prediction))\n",
        "    undersample_auc.append(roc_auc_score(original_ytrain[test], undersample_prediction))"
      ],
      "execution_count": 0,
      "outputs": []
    },
    {
      "cell_type": "code",
      "metadata": {
        "id": "6V4W_Wubjduy",
        "colab_type": "code",
        "outputId": "8c8f257a-16ca-4039-b139-c081c84482eb",
        "colab": {
          "base_uri": "https://localhost:8080/",
          "height": 105
        }
      },
      "source": [
        "undersample_accuracy"
      ],
      "execution_count": 49,
      "outputs": [
        {
          "output_type": "execute_result",
          "data": {
            "text/plain": [
              "[0.6093177379358775,\n",
              " 0.4194518203164432,\n",
              " 0.5802628980227786,\n",
              " 0.5932980754460269,\n",
              " 0.48206017248568106]"
            ]
          },
          "metadata": {
            "tags": []
          },
          "execution_count": 49
        }
      ]
    },
    {
      "cell_type": "markdown",
      "metadata": {
        "id": "nU0VZysD_UfE",
        "colab_type": "text"
      },
      "source": [
        "## Comparing Results"
      ]
    },
    {
      "cell_type": "code",
      "metadata": {
        "id": "TUUXfiogFII8",
        "colab_type": "code",
        "colab": {}
      },
      "source": [
        "# Let's Plot LogisticRegression Learning Curve\n",
        "from sklearn.model_selection import ShuffleSplit\n",
        "from sklearn.model_selection import learning_curve\n",
        "\n",
        "def plot_learning_curve(estimator1, estimator2, estimator3, estimator4, X, y, ylim=None, cv=None,\n",
        "                        n_jobs=1, train_sizes=np.linspace(.1, 1.0, 5)):\n",
        "    f, ((ax1, ax2), (ax3, ax4)) = plt.subplots(2,2, figsize=(20,14), sharey=True)\n",
        "    if ylim is not None:\n",
        "        plt.ylim(*ylim)\n",
        "    # First Estimator\n",
        "    train_sizes, train_scores, test_scores = learning_curve(\n",
        "        estimator1, X, y, cv=cv, n_jobs=n_jobs, train_sizes=train_sizes)\n",
        "    train_scores_mean = np.mean(train_scores, axis=1)\n",
        "    train_scores_std = np.std(train_scores, axis=1)\n",
        "    test_scores_mean = np.mean(test_scores, axis=1)\n",
        "    test_scores_std = np.std(test_scores, axis=1)\n",
        "    ax1.fill_between(train_sizes, train_scores_mean - train_scores_std,\n",
        "                     train_scores_mean + train_scores_std, alpha=0.1,\n",
        "                     color=\"#ff9124\")\n",
        "    ax1.fill_between(train_sizes, test_scores_mean - test_scores_std,\n",
        "                     test_scores_mean + test_scores_std, alpha=0.1, color=\"#2492ff\")\n",
        "    ax1.plot(train_sizes, train_scores_mean, 'o-', color=\"#ff9124\",\n",
        "             label=\"Training score\")\n",
        "    ax1.plot(train_sizes, test_scores_mean, 'o-', color=\"#2492ff\",\n",
        "             label=\"Cross-validation score\")\n",
        "    ax1.set_title(\"Logistic Regression Learning Curve\", fontsize=14)\n",
        "    ax1.set_xlabel('Training size (m)')\n",
        "    ax1.set_ylabel('Score')\n",
        "    ax1.grid(True)\n",
        "    ax1.legend(loc=\"best\")\n",
        "    \n",
        "    # Second Estimator \n",
        "    train_sizes, train_scores, test_scores = learning_curve(\n",
        "         estimator2, X, y, cv=cv, n_jobs=n_jobs, train_sizes=train_sizes)\n",
        "    train_scores_mean = np.mean(train_scores, axis=1)\n",
        "    train_scores_std = np.std(train_scores, axis=1)\n",
        "    test_scores_mean = np.mean(test_scores, axis=1)\n",
        "    test_scores_std = np.std(test_scores, axis=1)\n",
        "    ax2.fill_between(train_sizes, train_scores_mean - train_scores_std,\n",
        "                     train_scores_mean + train_scores_std, alpha=0.1,\n",
        "                     color=\"#ff9124\")\n",
        "    ax2.fill_between(train_sizes, test_scores_mean - test_scores_std,\n",
        "                     test_scores_mean + test_scores_std, alpha=0.1, color=\"#2492ff\")\n",
        "    ax2.plot(train_sizes, train_scores_mean, 'o-', color=\"#ff9124\",\n",
        "             label=\"Training score\")\n",
        "    ax2.plot(train_sizes, test_scores_mean, 'o-', color=\"#2492ff\",\n",
        "             label=\"Cross-validation score\")\n",
        "    ax2.set_title(\"K-Neighbors Classifier Learning Curve\", fontsize=14)\n",
        "    ax2.set_xlabel('Training size (m)')\n",
        "    ax2.set_ylabel('Score')\n",
        "    ax2.grid(True)\n",
        "    ax2.legend(loc=\"best\")   \n",
        "    \n",
        "    \n",
        "    # Third Estimator\n",
        "    train_sizes, train_scores, test_scores = learning_curve(\n",
        "        estimator3, X, y, cv=cv, n_jobs=n_jobs, train_sizes=train_sizes)\n",
        "    train_scores_mean = np.mean(train_scores, axis=1)\n",
        "    train_scores_std = np.std(train_scores, axis=1)\n",
        "    test_scores_mean = np.mean(test_scores, axis=1)\n",
        "    test_scores_std = np.std(test_scores, axis=1)\n",
        "    ax3.fill_between(train_sizes, train_scores_mean - train_scores_std,\n",
        "                     train_scores_mean + train_scores_std, alpha=0.1,\n",
        "                     color=\"#ff9124\")\n",
        "    ax3.fill_between(train_sizes, test_scores_mean - test_scores_std,\n",
        "                     test_scores_mean + test_scores_std, alpha=0.1, color=\"#2492ff\")\n",
        "    ax3.plot(train_sizes, train_scores_mean, 'o-', color=\"#ff9124\",\n",
        "             label=\"Training score\")\n",
        "    ax3.plot(train_sizes, test_scores_mean, 'o-', color=\"#2492ff\",\n",
        "             label=\"Cross-validation score\")\n",
        "    ax3.set_title(\"SVC Learning Curve\", fontsize=14)\n",
        "    ax3.set_xlabel('Training size (m)')\n",
        "    ax3.set_ylabel('Score')\n",
        "    ax3.grid(True)\n",
        "    ax3.legend(loc=\"best\")   \n",
        "    \n",
        "\n",
        "    # Fourth Estimator\n",
        "    train_sizes, train_scores, test_scores = learning_curve(\n",
        "        estimator4, X, y, cv=cv, n_jobs=n_jobs, train_sizes=train_sizes)\n",
        "    train_scores_mean = np.mean(train_scores, axis=1)\n",
        "    train_scores_std = np.std(train_scores, axis=1)\n",
        "    test_scores_mean = np.mean(test_scores, axis=1)\n",
        "    test_scores_std = np.std(test_scores, axis=1)\n",
        "    ax4.fill_between(train_sizes, train_scores_mean - train_scores_std,\n",
        "                     train_scores_mean + train_scores_std, alpha=0.1,\n",
        "                     color=\"#ff9124\")\n",
        "    ax4.fill_between(train_sizes, test_scores_mean - test_scores_std,\n",
        "                     test_scores_mean + test_scores_std, alpha=0.1, color=\"#2492ff\")\n",
        "    ax4.plot(train_sizes, train_scores_mean, 'o-', color=\"#ff9124\",\n",
        "             label=\"Training score\")\n",
        "    ax4.plot(train_sizes, test_scores_mean, 'o-', color=\"#2492ff\",\n",
        "             label=\"Cross-validation score\")\n",
        "    ax4.set_title(\"Decision Tree Classifier Learning Curve\", fontsize=14)\n",
        "    ax4.set_xlabel('Training size (m)')\n",
        "    ax4.set_ylabel('Score')\n",
        "    ax4.grid(True)\n",
        "    ax4.legend(loc=\"best\")   \n",
        "    \n",
        "\n",
        "    return plt"
      ],
      "execution_count": 0,
      "outputs": []
    },
    {
      "cell_type": "code",
      "metadata": {
        "id": "Wn6W_JSHFII_",
        "colab_type": "code",
        "outputId": "f2498b4c-2479-4f2c-f0f7-bf3385934eb7",
        "colab": {
          "base_uri": "https://localhost:8080/",
          "height": 577
        }
      },
      "source": [
        "cv = ShuffleSplit(n_splits=100, test_size=0.2, random_state=42)\n",
        "plot_learning_curve(log_reg, knears_neighbors, svc, tree_clf, X_train, y_train, (0.87, 1.01), cv=cv, n_jobs=4)"
      ],
      "execution_count": 51,
      "outputs": [
        {
          "output_type": "execute_result",
          "data": {
            "text/plain": [
              "<module 'matplotlib.pyplot' from '/usr/local/lib/python3.6/dist-packages/matplotlib/pyplot.py'>"
            ]
          },
          "metadata": {
            "tags": []
          },
          "execution_count": 51
        },
        {
          "output_type": "display_data",
          "data": {
            "image/png": "[encoded data removed]",
            "text/plain": [
              "<Figure size 1440x1008 with 4 Axes>"
            ]
          },
          "metadata": {
            "tags": []
          }
        }
      ]
    },
    {
      "cell_type": "markdown",
      "metadata": {
        "id": "X38QXhn5FIJC",
        "colab_type": "text"
      },
      "source": [
        "## Create Dataframe with all score"
      ]
    },
    {
      "cell_type": "code",
      "metadata": {
        "id": "Jmjkem_WFIJD",
        "colab_type": "code",
        "colab": {}
      },
      "source": [
        "from sklearn.metrics import roc_curve\n",
        "from sklearn.model_selection import cross_val_predict\n",
        "# Create a DataFrame with all the scores and the classifiers names.\n",
        "\n",
        "log_reg_pred = cross_val_predict(log_reg, X_train, y_train, cv=5,\n",
        "                             method=\"decision_function\")\n",
        "\n",
        "knears_pred = cross_val_predict(knears_neighbors, X_train, y_train, cv=5,\n",
        "                             method=\"predict\")\n",
        "\n",
        "svc_pred = cross_val_predict(svc, X_train, y_train, cv=5,\n",
        "                             method=\"predict\")\n",
        "\n",
        "tree_pred = cross_val_predict(tree_clf, X_train, y_train, cv=5,\n",
        "                             method=\"predict\")"
      ],
      "execution_count": 0,
      "outputs": []
    },
    {
      "cell_type": "code",
      "metadata": {
        "id": "Uct68igsFIJK",
        "colab_type": "code",
        "outputId": "63bf4bc5-d101-4f6a-a073-9c418178e7f5",
        "colab": {
          "base_uri": "https://localhost:8080/",
          "height": 87
        }
      },
      "source": [
        "from sklearn.metrics import roc_auc_score\n",
        "#auroc\n",
        "print('Logistic Regression: ', roc_auc_score(y_train, log_reg_pred))\n",
        "print('KNears Neighbors: ', roc_auc_score(y_train, knears_pred))\n",
        "print('Support Vector Classifier: ', roc_auc_score(y_train, svc_pred))\n",
        "print('Decision Tree Classifier: ', roc_auc_score(y_train, tree_pred))"
      ],
      "execution_count": 53,
      "outputs": [
        {
          "output_type": "stream",
          "text": [
            "Logistic Regression:  0.9683924762458793\n",
            "KNears Neighbors:  0.9297653674617025\n",
            "Support Vector Classifier:  0.9376187706030638\n",
            "Decision Tree Classifier:  0.9152478831361902\n"
          ],
          "name": "stdout"
        }
      ]
    },
    {
      "cell_type": "code",
      "metadata": {
        "id": "ONAP-FXdFIJN",
        "colab_type": "code",
        "outputId": "bb8e64de-58b3-461b-f0c2-071668371a75",
        "colab": {
          "base_uri": "https://localhost:8080/",
          "height": 443
        }
      },
      "source": [
        "log_fpr, log_tpr, log_thresold = roc_curve(y_train, log_reg_pred)\n",
        "knear_fpr, knear_tpr, knear_threshold = roc_curve(y_train, knears_pred)\n",
        "svc_fpr, svc_tpr, svc_threshold = roc_curve(y_train, svc_pred)\n",
        "tree_fpr, tree_tpr, tree_threshold = roc_curve(y_train, tree_pred)\n",
        "\n",
        "\n",
        "def graph_roc_curve_multiple(log_fpr, log_tpr, knear_fpr, knear_tpr, svc_fpr, svc_tpr, tree_fpr, tree_tpr):\n",
        "    plt.figure(figsize=(16,8))\n",
        "    plt.title('ROC Curve \\n Top 4 Classifiers', fontsize=18)\n",
        "    plt.plot(log_fpr, log_tpr, label='Logistic Regression Classifier Score: {:.4f}'.format(roc_auc_score(y_train, log_reg_pred)))\n",
        "    plt.plot(knear_fpr, knear_tpr, label='KNears Neighbors Classifier Score: {:.4f}'.format(roc_auc_score(y_train, knears_pred)))\n",
        "    plt.plot(svc_fpr, svc_tpr, label='Support Vector Classifier Score: {:.4f}'.format(roc_auc_score(y_train, svc_pred)))\n",
        "    plt.plot(tree_fpr, tree_tpr, label='Decision Tree Classifier Score: {:.4f}'.format(roc_auc_score(y_train, tree_pred)))\n",
        "    plt.plot([0, 1], [0, 1], 'k--')\n",
        "    plt.axis([-0.01, 1, 0, 1])\n",
        "    plt.xlabel('False Positive Rate', fontsize=16)\n",
        "    plt.ylabel('True Positive Rate', fontsize=16)\n",
        "    plt.annotate('Minimum ROC Score of 50% \\n (This is the minimum score to get)', xy=(0.5, 0.5), xytext=(0.6, 0.3),\n",
        "                arrowprops=dict(facecolor='#6E726D', shrink=0.05),\n",
        "                )\n",
        "    plt.legend()\n",
        "    \n",
        "graph_roc_curve_multiple(log_fpr, log_tpr, knear_fpr, knear_tpr, svc_fpr, svc_tpr, tree_fpr, tree_tpr)\n",
        "plt.show()"
      ],
      "execution_count": 54,
      "outputs": [
        {
          "output_type": "display_data",
          "data": {
            "image/png": "[encoded data removed]",
            "text/plain": [
              "<Figure size 1152x576 with 1 Axes>"
            ]
          },
          "metadata": {
            "tags": []
          }
        }
      ]
    },
    {
      "cell_type": "markdown",
      "metadata": {
        "id": "xUI9cHLsFIJc",
        "colab_type": "text"
      },
      "source": [
        "## A Deeper Look into LogisticRegression"
      ]
    },
    {
      "cell_type": "code",
      "metadata": {
        "id": "LrXjMOjvFIJd",
        "colab_type": "code",
        "outputId": "8cdb288a-5d0a-47d3-c99d-8f0097a9adf6",
        "colab": {
          "base_uri": "https://localhost:8080/",
          "height": 522
        }
      },
      "source": [
        "def logistic_roc_curve(log_fpr, log_tpr):\n",
        "    plt.figure(figsize=(12,8))\n",
        "    plt.title('Logistic Regression ROC Curve', fontsize=16)\n",
        "    plt.plot(log_fpr, log_tpr, 'b-', linewidth=2)\n",
        "    plt.plot([0, 1], [0, 1], 'r--')\n",
        "    plt.xlabel('False Positive Rate', fontsize=16)\n",
        "    plt.ylabel('True Positive Rate', fontsize=16)\n",
        "    plt.axis([-0.01,1,0,1])\n",
        "    \n",
        "    \n",
        "logistic_roc_curve(log_fpr, log_tpr)\n",
        "plt.show()"
      ],
      "execution_count": 55,
      "outputs": [
        {
          "output_type": "display_data",
          "data": {
            "image/png": "[encoded data removed]",
            "text/plain": [
              "<Figure size 864x576 with 1 Axes>"
            ]
          },
          "metadata": {
            "tags": []
          }
        }
      ]
    },
    {
      "cell_type": "code",
      "metadata": {
        "id": "JWqjgpg9FIJl",
        "colab_type": "code",
        "colab": {}
      },
      "source": [
        "from sklearn.metrics import precision_recall_curve\n",
        "\n",
        "precision, recall, threshold = precision_recall_curve(y_train, log_reg_pred)"
      ],
      "execution_count": 0,
      "outputs": []
    },
    {
      "cell_type": "code",
      "metadata": {
        "id": "AXiqgMyNFIJp",
        "colab_type": "code",
        "outputId": "0877098b-980c-4a64-b249-bb647feaf98b",
        "colab": {
          "base_uri": "https://localhost:8080/",
          "height": 321
        }
      },
      "source": [
        "from sklearn.metrics import recall_score, precision_score, f1_score, accuracy_score\n",
        "y_pred = log_reg.predict(X_train)\n",
        "\n",
        "# Overfitting Case\n",
        "print('---' * 45)\n",
        "print('Overfitting: \\n')\n",
        "print('Recall Score: {:.2f}'.format(recall_score(y_train, y_pred)))\n",
        "print('Precision Score: {:.2f}'.format(precision_score(y_train, y_pred)))\n",
        "print('F1 Score: {:.2f}'.format(f1_score(y_train, y_pred)))\n",
        "print('Accuracy Score: {:.2f}'.format(accuracy_score(y_train, y_pred)))\n",
        "print('---' * 45)\n",
        "\n",
        "# How it should look like\n",
        "print('---' * 45)\n",
        "print('How it should be:\\n')\n",
        "print(\"Accuracy Score: {:.2f}\".format(np.mean(undersample_accuracy)))\n",
        "print(\"Precision Score: {:.2f}\".format(np.mean(undersample_precision)))\n",
        "print(\"Recall Score: {:.2f}\".format(np.mean(undersample_recall)))\n",
        "print(\"F1 Score: {:.2f}\".format(np.mean(undersample_f1)))\n",
        "print('---' * 45)"
      ],
      "execution_count": 57,
      "outputs": [
        {
          "output_type": "stream",
          "text": [
            "---------------------------------------------------------------------------------------------------------------------------------------\n",
            "Overfitting: \n",
            "\n",
            "Recall Score: 0.95\n",
            "Precision Score: 0.65\n",
            "F1 Score: 0.77\n",
            "Accuracy Score: 0.73\n",
            "---------------------------------------------------------------------------------------------------------------------------------------\n",
            "---------------------------------------------------------------------------------------------------------------------------------------\n",
            "How it should be:\n",
            "\n",
            "Accuracy Score: 0.54\n",
            "Precision Score: 0.00\n",
            "Recall Score: 0.92\n",
            "F1 Score: 0.01\n",
            "---------------------------------------------------------------------------------------------------------------------------------------\n"
          ],
          "name": "stdout"
        }
      ]
    },
    {
      "cell_type": "code",
      "metadata": {
        "id": "n4Mr9E56FIJs",
        "colab_type": "code",
        "outputId": "f894940a-236e-4802-a05a-ec43d411f327",
        "colab": {
          "base_uri": "https://localhost:8080/",
          "height": 52
        }
      },
      "source": [
        "undersample_y_score = log_reg.decision_function(original_Xtest)\n",
        "undersample_y_score"
      ],
      "execution_count": 58,
      "outputs": [
        {
          "output_type": "execute_result",
          "data": {
            "text/plain": [
              "array([ 44.96293839, -12.30053037, -13.98507226, ...,  -6.3193027 ,\n",
              "       -24.04219267,  -7.06890811])"
            ]
          },
          "metadata": {
            "tags": []
          },
          "execution_count": 58
        }
      ]
    },
    {
      "cell_type": "code",
      "metadata": {
        "id": "ur0ewBqkFIJv",
        "colab_type": "code",
        "outputId": "b4d9abc9-4934-4153-c437-916c197060bb",
        "colab": {
          "base_uri": "https://localhost:8080/",
          "height": 34
        }
      },
      "source": [
        "from sklearn.metrics import average_precision_score\n",
        "\n",
        "undersample_average_precision = average_precision_score(original_ytest, undersample_y_score)\n",
        "\n",
        "print('Average precision-recall score: {0:0.2f}'.format(\n",
        "      undersample_average_precision))"
      ],
      "execution_count": 59,
      "outputs": [
        {
          "output_type": "stream",
          "text": [
            "Average precision-recall score: 0.01\n"
          ],
          "name": "stdout"
        }
      ]
    },
    {
      "cell_type": "code",
      "metadata": {
        "id": "QiDKPnj1FIJ3",
        "colab_type": "code",
        "outputId": "eb5e81a7-91f9-4c66-8bb6-ad8932812a6c",
        "colab": {
          "base_uri": "https://localhost:8080/",
          "height": 446
        }
      },
      "source": [
        "from sklearn.metrics import precision_recall_curve\n",
        "import matplotlib.pyplot as plt\n",
        "\n",
        "fig = plt.figure(figsize=(12,6))\n",
        "\n",
        "precision, recall, _ = precision_recall_curve(original_ytest, undersample_y_score)\n",
        "\n",
        "plt.step(recall, precision, color='#004a93', alpha=0.2,\n",
        "         where='post')\n",
        "plt.fill_between(recall, precision, step='post', alpha=0.2,\n",
        "                 color='#48a6ff')\n",
        "\n",
        "plt.xlabel('Recall')\n",
        "plt.ylabel('Precision')\n",
        "plt.ylim([0.0, 1.05])\n",
        "plt.xlim([0.0, 1.0])\n",
        "plt.title('UnderSampling Precision-Recall curve: \\n Average Precision-Recall Score ={0:0.2f}'.format(\n",
        "          undersample_average_precision), fontsize=16)"
      ],
      "execution_count": 60,
      "outputs": [
        {
          "output_type": "execute_result",
          "data": {
            "text/plain": [
              "Text(0.5, 1.0, 'UnderSampling Precision-Recall curve: \\n Average Precision-Recall Score =0.01')"
            ]
          },
          "metadata": {
            "tags": []
          },
          "execution_count": 60
        },
        {
          "output_type": "display_data",
          "data": {
            "image/png": "[encoded data removed]",
            "text/plain": [
              "<Figure size 864x432 with 1 Axes>"
            ]
          },
          "metadata": {
            "tags": []
          }
        }
      ]
    },
    {
      "cell_type": "markdown",
      "metadata": {
        "id": "cov9u7IFFIJ7",
        "colab_type": "text"
      },
      "source": [
        "## SMOTE Technique (Over-Sampling)"
      ]
    },
    {
      "cell_type": "code",
      "metadata": {
        "id": "I34np_SaFIJ7",
        "colab_type": "code",
        "outputId": "d02afefc-fb9b-4bc1-cf71-2afc8bf7b565",
        "colab": {
          "base_uri": "https://localhost:8080/",
          "height": 196
        }
      },
      "source": [
        "from imblearn.over_sampling import SMOTE\n",
        "from sklearn.model_selection import train_test_split, RandomizedSearchCV\n",
        "\n",
        "\n",
        "print('Length of X (train): {} | Length of y (train): {}'.format(len(original_Xtrain), len(original_ytrain)))\n",
        "print('Length of X (test): {} | Length of y (test): {}'.format(len(original_Xtest), len(original_ytest)))\n",
        "\n",
        "# List to append the score and then find the average\n",
        "accuracy_lst = []\n",
        "precision_lst = []\n",
        "recall_lst = []\n",
        "f1_lst = []\n",
        "auc_lst = []\n",
        "\n",
        "# Classifier with optimal parameters\n",
        "\n",
        "rand_log_reg = RandomizedSearchCV(LogisticRegression(), log_reg_params, n_iter=4)\n",
        "\n",
        "# Implementing SMOTE Technique \n",
        "# Cross Validating the right way\n",
        "# Parameters\n",
        "log_reg_params = {\"penalty\": ['l1', 'l2'], 'C': [0.001, 0.01, 0.1, 1, 10, 100, 1000]}\n",
        "for train, test in sss.split(original_Xtrain, original_ytrain):\n",
        "    pipeline = imbalanced_make_pipeline(SMOTE(sampling_strategy='minority'), rand_log_reg) # SMOTE happens during Cross Validation not before..\n",
        "    model = pipeline.fit(original_Xtrain[train], original_ytrain[train])\n",
        "    best_est = rand_log_reg.best_estimator_\n",
        "    prediction = best_est.predict(original_Xtrain[test])\n",
        "    \n",
        "    accuracy_lst.append(pipeline.score(original_Xtrain[test], original_ytrain[test]))\n",
        "    precision_lst.append(precision_score(original_ytrain[test], prediction))\n",
        "    recall_lst.append(recall_score(original_ytrain[test], prediction))\n",
        "    f1_lst.append(f1_score(original_ytrain[test], prediction))\n",
        "    auc_lst.append(roc_auc_score(original_ytrain[test], prediction))\n",
        "    \n",
        "print('---' * 45)\n",
        "print('')\n",
        "print(\"accuracy: {}\".format(np.mean(accuracy_lst)))\n",
        "print(\"precision: {}\".format(np.mean(precision_lst)))\n",
        "print(\"recall: {}\".format(np.mean(recall_lst)))\n",
        "print(\"f1: {}\".format(np.mean(f1_lst)))\n",
        "print('---' * 45)"
      ],
      "execution_count": 61,
      "outputs": [
        {
          "output_type": "stream",
          "text": [
            "Length of X (train): 227845 | Length of y (train): 227845\n",
            "Length of X (test): 56962 | Length of y (test): 56962\n",
            "---------------------------------------------------------------------------------------------------------------------------------------\n",
            "\n",
            "accuracy: 0.9780420900173364\n",
            "precision: 0.06528468985737974\n",
            "recall: 0.8759493670886076\n",
            "f1: 0.12150759149910526\n",
            "---------------------------------------------------------------------------------------------------------------------------------------\n"
          ],
          "name": "stdout"
        }
      ]
    },
    {
      "cell_type": "code",
      "metadata": {
        "id": "_U1S-KaLFIJ-",
        "colab_type": "code",
        "outputId": "7c584ab0-7382-43d3-c4cc-74afa6ebba0e",
        "colab": {
          "base_uri": "https://localhost:8080/",
          "height": 176
        }
      },
      "source": [
        "labels = ['No Fraud', 'Fraud']\n",
        "smote_prediction = best_est.predict(original_Xtest)\n",
        "print(classification_report(original_ytest, smote_prediction, target_names=labels))"
      ],
      "execution_count": 62,
      "outputs": [
        {
          "output_type": "stream",
          "text": [
            "              precision    recall  f1-score   support\n",
            "\n",
            "    No Fraud       1.00      0.98      0.99     56864\n",
            "       Fraud       0.06      0.90      0.12        98\n",
            "\n",
            "    accuracy                           0.98     56962\n",
            "   macro avg       0.53      0.94      0.55     56962\n",
            "weighted avg       1.00      0.98      0.99     56962\n",
            "\n"
          ],
          "name": "stdout"
        }
      ]
    },
    {
      "cell_type": "code",
      "metadata": {
        "id": "WtO_Ax8EFIKB",
        "colab_type": "code",
        "colab": {}
      },
      "source": [
        "y_score = best_est.decision_function(original_Xtest)"
      ],
      "execution_count": 0,
      "outputs": []
    },
    {
      "cell_type": "code",
      "metadata": {
        "id": "dPjMAR7FFIKF",
        "colab_type": "code",
        "outputId": "af101b6b-9973-449a-8cff-4d7820648c29",
        "colab": {
          "base_uri": "https://localhost:8080/",
          "height": 34
        }
      },
      "source": [
        "average_precision = average_precision_score(original_ytest, y_score)\n",
        "\n",
        "print('Average precision-recall score: {0:0.2f}'.format(\n",
        "      average_precision))"
      ],
      "execution_count": 64,
      "outputs": [
        {
          "output_type": "stream",
          "text": [
            "Average precision-recall score: 0.68\n"
          ],
          "name": "stdout"
        }
      ]
    },
    {
      "cell_type": "code",
      "metadata": {
        "id": "_7kHrMmoFIKH",
        "colab_type": "code",
        "outputId": "10c5b836-343c-451d-b37c-df633d6be5a3",
        "colab": {
          "base_uri": "https://localhost:8080/",
          "height": 446
        }
      },
      "source": [
        "fig = plt.figure(figsize=(12,6))\n",
        "\n",
        "precision, recall, _ = precision_recall_curve(original_ytest, y_score)\n",
        "\n",
        "plt.step(recall, precision, color='r', alpha=0.2,\n",
        "         where='post')\n",
        "plt.fill_between(recall, precision, step='post', alpha=0.2,\n",
        "                 color='#F59B00')\n",
        "\n",
        "plt.xlabel('Recall')\n",
        "plt.ylabel('Precision')\n",
        "plt.ylim([0.0, 1.05])\n",
        "plt.xlim([0.0, 1.0])\n",
        "plt.title('OverSampling Precision-Recall curve: \\n Average Precision-Recall Score ={0:0.2f}'.format(\n",
        "          average_precision), fontsize=16)"
      ],
      "execution_count": 65,
      "outputs": [
        {
          "output_type": "execute_result",
          "data": {
            "text/plain": [
              "Text(0.5, 1.0, 'OverSampling Precision-Recall curve: \\n Average Precision-Recall Score =0.68')"
            ]
          },
          "metadata": {
            "tags": []
          },
          "execution_count": 65
        },
        {
          "output_type": "display_data",
          "data": {
            "image/png": "[encoded data removed]",
            "text/plain": [
              "<Figure size 864x432 with 1 Axes>"
            ]
          },
          "metadata": {
            "tags": []
          }
        }
      ]
    },
    {
      "cell_type": "code",
      "metadata": {
        "id": "fq-nm15ZFIKN",
        "colab_type": "code",
        "colab": {}
      },
      "source": [
        "# SMOTE Technique (OverSampling) After splitting and Cross Validating\n",
        "sm = SMOTE(ratio='minority', random_state=42)\n",
        "\n",
        "# This will be the data were we are going to \n",
        "Xsm_train, ysm_train = sm.fit_sample(original_Xtrain, original_ytrain)"
      ],
      "execution_count": 0,
      "outputs": []
    },
    {
      "cell_type": "code",
      "metadata": {
        "id": "12up32SuFIKQ",
        "colab_type": "code",
        "outputId": "8b436403-1b5d-49ef-ef2a-b8b13d6942ac",
        "colab": {
          "base_uri": "https://localhost:8080/",
          "height": 34
        }
      },
      "source": [
        "# We Improve the score by 2% points approximately \n",
        "# Implement GridSearchCV and the other models.\n",
        "\n",
        "# Logistic Regression\n",
        "t0 = time.time()\n",
        "log_reg_sm = grid_log_reg.best_estimator_\n",
        "log_reg_sm.fit(Xsm_train, ysm_train)\n",
        "t1 = time.time()\n",
        "print(\"Fitting oversample data took :{} sec\".format(t1 - t0))"
      ],
      "execution_count": 67,
      "outputs": [
        {
          "output_type": "stream",
          "text": [
            "Fitting oversample data took :8.83488655090332 sec\n"
          ],
          "name": "stdout"
        }
      ]
    },
    {
      "cell_type": "markdown",
      "metadata": {
        "id": "L61fiqmgFIKS",
        "colab_type": "text"
      },
      "source": [
        "## Comparing results using Test Data "
      ]
    },
    {
      "cell_type": "code",
      "metadata": {
        "id": "E5OruKj9FIKT",
        "colab_type": "code",
        "outputId": "0ca27fef-3a28-46bd-f36c-277d20dda55d",
        "colab": {
          "base_uri": "https://localhost:8080/",
          "height": 467
        }
      },
      "source": [
        "from sklearn.metrics import confusion_matrix\n",
        "\n",
        "# Logistic Regression fitted using SMOTE technique\n",
        "y_pred_log_reg = log_reg_sm.predict(X_test)\n",
        "\n",
        "# Other models fitted with UnderSampling\n",
        "y_pred_knear = knears_neighbors.predict(X_test)\n",
        "y_pred_svc = svc.predict(X_test)\n",
        "y_pred_tree = tree_clf.predict(X_test)\n",
        "\n",
        "\n",
        "log_reg_cf = confusion_matrix(y_test, y_pred_log_reg)\n",
        "kneighbors_cf = confusion_matrix(y_test, y_pred_knear)\n",
        "svc_cf = confusion_matrix(y_test, y_pred_svc)\n",
        "tree_cf = confusion_matrix(y_test, y_pred_tree)\n",
        "\n",
        "fig, ax = plt.subplots(2, 2,figsize=(22,12))\n",
        "\n",
        "\n",
        "sns.heatmap(log_reg_cf, ax=ax[0][0], annot=True, cmap=plt.cm.copper)\n",
        "ax[0, 0].set_title(\"Logistic Regression \\n Confusion Matrix\", fontsize=14)\n",
        "ax[0, 0].set_xticklabels(['', ''], fontsize=14, rotation=90)\n",
        "ax[0, 0].set_yticklabels(['', ''], fontsize=14, rotation=360)\n",
        "\n",
        "sns.heatmap(kneighbors_cf, ax=ax[0][1], annot=True, cmap=plt.cm.copper)\n",
        "ax[0][1].set_title(\"KNearsNeighbors \\n Confusion Matrix\", fontsize=14)\n",
        "ax[0][1].set_xticklabels(['', ''], fontsize=14, rotation=90)\n",
        "ax[0][1].set_yticklabels(['', ''], fontsize=14, rotation=360)\n",
        "\n",
        "sns.heatmap(svc_cf, ax=ax[1][0], annot=True, cmap=plt.cm.copper)\n",
        "ax[1][0].set_title(\"Suppor Vector Classifier \\n Confusion Matrix\", fontsize=14)\n",
        "ax[1][0].set_xticklabels(['', ''], fontsize=14, rotation=90)\n",
        "ax[1][0].set_yticklabels(['', ''], fontsize=14, rotation=360)\n",
        "\n",
        "sns.heatmap(tree_cf, ax=ax[1][1], annot=True, cmap=plt.cm.copper)\n",
        "ax[1][1].set_title(\"DecisionTree Classifier \\n Confusion Matrix\", fontsize=14)\n",
        "ax[1][1].set_xticklabels(['', ''], fontsize=14, rotation=90)\n",
        "ax[1][1].set_yticklabels(['', ''], fontsize=14, rotation=360)\n",
        "\n",
        "\n",
        "plt.show()"
      ],
      "execution_count": 68,
      "outputs": [
        {
          "output_type": "display_data",
          "data": {
            "image/png": "[encoded data removed]",
            "text/plain": [
              "<Figure size 1584x864 with 8 Axes>"
            ]
          },
          "metadata": {
            "tags": []
          }
        }
      ]
    },
    {
      "cell_type": "code",
      "metadata": {
        "id": "qcMSAQZaFIKV",
        "colab_type": "code",
        "outputId": "36d768a2-a1ef-49e9-df59-3e886f54b1b4",
        "colab": {
          "base_uri": "https://localhost:8080/",
          "height": 727
        }
      },
      "source": [
        "from sklearn.metrics import classification_report\n",
        "\n",
        "\n",
        "print('Logistic Regression:')\n",
        "print(classification_report(y_test, y_pred_log_reg))\n",
        "\n",
        "print('KNears Neighbors:')\n",
        "print(classification_report(y_test, y_pred_knear))\n",
        "\n",
        "print('Support Vector Classifier:')\n",
        "print(classification_report(y_test, y_pred_svc))\n",
        "\n",
        "print('Support Vector Classifier:')\n",
        "print(classification_report(y_test, y_pred_tree))"
      ],
      "execution_count": 69,
      "outputs": [
        {
          "output_type": "stream",
          "text": [
            "Logistic Regression:\n",
            "              precision    recall  f1-score   support\n",
            "\n",
            "           0       0.98      0.97      0.97        87\n",
            "           1       0.97      0.98      0.98       110\n",
            "\n",
            "    accuracy                           0.97       197\n",
            "   macro avg       0.97      0.97      0.97       197\n",
            "weighted avg       0.97      0.97      0.97       197\n",
            "\n",
            "KNears Neighbors:\n",
            "              precision    recall  f1-score   support\n",
            "\n",
            "           0       0.93      0.98      0.96        87\n",
            "           1       0.98      0.95      0.96       110\n",
            "\n",
            "    accuracy                           0.96       197\n",
            "   macro avg       0.96      0.96      0.96       197\n",
            "weighted avg       0.96      0.96      0.96       197\n",
            "\n",
            "Support Vector Classifier:\n",
            "              precision    recall  f1-score   support\n",
            "\n",
            "           0       0.98      0.97      0.97        87\n",
            "           1       0.97      0.98      0.98       110\n",
            "\n",
            "    accuracy                           0.97       197\n",
            "   macro avg       0.97      0.97      0.97       197\n",
            "weighted avg       0.97      0.97      0.97       197\n",
            "\n",
            "Support Vector Classifier:\n",
            "              precision    recall  f1-score   support\n",
            "\n",
            "           0       0.96      0.90      0.93        87\n",
            "           1       0.92      0.97      0.95       110\n",
            "\n",
            "    accuracy                           0.94       197\n",
            "   macro avg       0.94      0.93      0.94       197\n",
            "weighted avg       0.94      0.94      0.94       197\n",
            "\n"
          ],
          "name": "stdout"
        }
      ]
    },
    {
      "cell_type": "code",
      "metadata": {
        "id": "DbHV15nrFIKY",
        "colab_type": "code",
        "outputId": "0d376d7a-0cb2-4917-8ab3-425aec06a885",
        "colab": {
          "base_uri": "https://localhost:8080/",
          "height": 107
        }
      },
      "source": [
        "# Final Score in the test set of logistic regression\n",
        "from sklearn.metrics import accuracy_score\n",
        "\n",
        "# Logistic Regression with Under-Sampling\n",
        "y_pred = log_reg.predict(X_test)\n",
        "undersample_score = accuracy_score(y_test, y_pred)\n",
        "\n",
        "# Logistic Regression with SMOTE Technique (Better accuracy with SMOTE t)\n",
        "y_pred_sm = best_est.predict(original_Xtest)\n",
        "oversample_score = accuracy_score(original_ytest, y_pred_sm)\n",
        "\n",
        "d = {'Technique': ['Random UnderSampling', 'Oversampling (SMOTE)'], 'Score': [undersample_score, oversample_score]}\n",
        "final_df = pd.DataFrame(data=d)\n",
        "\n",
        "# Move column\n",
        "score = final_df['Score']\n",
        "final_df.drop('Score', axis=1, inplace=True)\n",
        "final_df.insert(1, 'Score', score)\n",
        "\n",
        "# Note how high is accuracy score it can be misleading! \n",
        "final_df"
      ],
      "execution_count": 70,
      "outputs": [
        {
          "output_type": "execute_result",
          "data": {
            "text/html": [
              "<div>\n",
              "<style scoped>\n",
              "    .dataframe tbody tr th:only-of-type {\n",
              "        vertical-align: middle;\n",
              "    }\n",
              "\n",
              "    .dataframe tbody tr th {\n",
              "        vertical-align: top;\n",
              "    }\n",
              "\n",
              "    .dataframe thead th {\n",
              "        text-align: right;\n",
              "    }\n",
              "</style>\n",
              "<table border=\"1\" class=\"dataframe\">\n",
              "  <thead>\n",
              "    <tr style=\"text-align: right;\">\n",
              "      <th></th>\n",
              "      <th>Technique</th>\n",
              "      <th>Score</th>\n",
              "    </tr>\n",
              "  </thead>\n",
              "  <tbody>\n",
              "    <tr>\n",
              "      <th>0</th>\n",
              "      <td>Random UnderSampling</td>\n",
              "      <td>0.974619</td>\n",
              "    </tr>\n",
              "    <tr>\n",
              "      <th>1</th>\n",
              "      <td>Oversampling (SMOTE)</td>\n",
              "      <td>0.977020</td>\n",
              "    </tr>\n",
              "  </tbody>\n",
              "</table>\n",
              "</div>"
            ],
            "text/plain": [
              "              Technique     Score\n",
              "0  Random UnderSampling  0.974619\n",
              "1  Oversampling (SMOTE)  0.977020"
            ]
          },
          "metadata": {
            "tags": []
          },
          "execution_count": 70
        }
      ]
    },
    {
      "cell_type": "markdown",
      "metadata": {
        "id": "tYVM49bhFIKb",
        "colab_type": "text"
      },
      "source": [
        "## Neural Networks Testing Random UnderSampling Data vs OverSampling (SMOTE)"
      ]
    },
    {
      "cell_type": "code",
      "metadata": {
        "id": "-60KwFWQFIKd",
        "colab_type": "code",
        "outputId": "a22f5170-cd8b-4568-cada-9f2c56d3ad75",
        "colab": {
          "base_uri": "https://localhost:8080/",
          "height": 283
        }
      },
      "source": [
        "import keras\n",
        "from keras import backend as K\n",
        "from keras.models import Sequential\n",
        "from keras.layers import Activation\n",
        "from keras.layers.core import Dense\n",
        "from keras.optimizers import Adam\n",
        "from keras.metrics import sparse_categorical_crossentropy\n",
        "\n",
        "n_inputs = X_train.shape[1]\n",
        "\n",
        "undersample_model = Sequential()\n",
        "\n",
        "# First layer\n",
        "undersample_model.add(Dense(units=n_inputs, activation='relu', input_dim=n_inputs))\n",
        "# Second layer\n",
        "undersample_model.add(Dense(units=32, activation='relu'))\n",
        "# Output layer\n",
        "undersample_model.add(Dense(units=2, activation='softmax'))\n",
        "\n",
        "# Compile the model\n",
        "undersample_model.summary()\n",
        "undersample_model.compile(optimizer='adam',\n",
        "              loss='sparse_categorical_crossentropy',\n",
        "              metrics=['acc']\n",
        "              )"
      ],
      "execution_count": 71,
      "outputs": [
        {
          "output_type": "stream",
          "text": [
            "Using TensorFlow backend.\n"
          ],
          "name": "stderr"
        },
        {
          "output_type": "stream",
          "text": [
            "Model: \"sequential_1\"\n",
            "_________________________________________________________________\n",
            "Layer (type)                 Output Shape              Param #   \n",
            "=================================================================\n",
            "dense_1 (Dense)              (None, 30)                930       \n",
            "_________________________________________________________________\n",
            "dense_2 (Dense)              (None, 32)                992       \n",
            "_________________________________________________________________\n",
            "dense_3 (Dense)              (None, 2)                 66        \n",
            "=================================================================\n",
            "Total params: 1,988\n",
            "Trainable params: 1,988\n",
            "Non-trainable params: 0\n",
            "_________________________________________________________________\n"
          ],
          "name": "stdout"
        }
      ]
    },
    {
      "cell_type": "code",
      "metadata": {
        "id": "shVjF7pkFIKo",
        "colab_type": "code",
        "outputId": "a611709c-0da4-45d5-818d-3944381f5474",
        "colab": {
          "base_uri": "https://localhost:8080/",
          "height": 763
        }
      },
      "source": [
        "undersample_model.fit(X_train, y_train, validation_split=0.2, batch_size=25, epochs=20, shuffle=True, verbose=2)"
      ],
      "execution_count": 72,
      "outputs": [
        {
          "output_type": "stream",
          "text": [
            "Train on 629 samples, validate on 158 samples\n",
            "Epoch 1/20\n",
            " - 0s - loss: 0.4934 - acc: 0.7742 - val_loss: 0.3401 - val_acc: 0.8797\n",
            "Epoch 2/20\n",
            " - 0s - loss: 0.3087 - acc: 0.8967 - val_loss: 0.2765 - val_acc: 0.9241\n",
            "Epoch 3/20\n",
            " - 0s - loss: 0.2505 - acc: 0.9189 - val_loss: 0.2410 - val_acc: 0.9304\n",
            "Epoch 4/20\n",
            " - 0s - loss: 0.2126 - acc: 0.9285 - val_loss: 0.2127 - val_acc: 0.9304\n",
            "Epoch 5/20\n",
            " - 0s - loss: 0.1863 - acc: 0.9332 - val_loss: 0.1935 - val_acc: 0.9304\n",
            "Epoch 6/20\n",
            " - 0s - loss: 0.1669 - acc: 0.9428 - val_loss: 0.1769 - val_acc: 0.9430\n",
            "Epoch 7/20\n",
            " - 0s - loss: 0.1543 - acc: 0.9364 - val_loss: 0.1771 - val_acc: 0.9430\n",
            "Epoch 8/20\n",
            " - 0s - loss: 0.1396 - acc: 0.9475 - val_loss: 0.1684 - val_acc: 0.9494\n",
            "Epoch 9/20\n",
            " - 0s - loss: 0.1289 - acc: 0.9491 - val_loss: 0.1588 - val_acc: 0.9367\n",
            "Epoch 10/20\n",
            " - 0s - loss: 0.1202 - acc: 0.9491 - val_loss: 0.1541 - val_acc: 0.9367\n",
            "Epoch 11/20\n",
            " - 0s - loss: 0.1127 - acc: 0.9523 - val_loss: 0.1523 - val_acc: 0.9367\n",
            "Epoch 12/20\n",
            " - 0s - loss: 0.1062 - acc: 0.9555 - val_loss: 0.1501 - val_acc: 0.9367\n",
            "Epoch 13/20\n",
            " - 0s - loss: 0.0991 - acc: 0.9587 - val_loss: 0.1511 - val_acc: 0.9304\n",
            "Epoch 14/20\n",
            " - 0s - loss: 0.0942 - acc: 0.9603 - val_loss: 0.1531 - val_acc: 0.9241\n",
            "Epoch 15/20\n",
            " - 0s - loss: 0.0885 - acc: 0.9587 - val_loss: 0.1503 - val_acc: 0.9304\n",
            "Epoch 16/20\n",
            " - 0s - loss: 0.0833 - acc: 0.9650 - val_loss: 0.1516 - val_acc: 0.9304\n",
            "Epoch 17/20\n",
            " - 0s - loss: 0.0795 - acc: 0.9698 - val_loss: 0.1609 - val_acc: 0.9304\n",
            "Epoch 18/20\n",
            " - 0s - loss: 0.0753 - acc: 0.9682 - val_loss: 0.1585 - val_acc: 0.9367\n",
            "Epoch 19/20\n",
            " - 0s - loss: 0.0694 - acc: 0.9730 - val_loss: 0.1648 - val_acc: 0.9367\n",
            "Epoch 20/20\n",
            " - 0s - loss: 0.0660 - acc: 0.9762 - val_loss: 0.1702 - val_acc: 0.9367\n"
          ],
          "name": "stdout"
        },
        {
          "output_type": "execute_result",
          "data": {
            "text/plain": [
              "<keras.callbacks.callbacks.History at 0x7f4ded720b38>"
            ]
          },
          "metadata": {
            "tags": []
          },
          "execution_count": 72
        }
      ]
    },
    {
      "cell_type": "code",
      "metadata": {
        "id": "aeuzAjnKGVzn",
        "colab_type": "code",
        "outputId": "f7a6c321-c5f7-480f-d132-536ce46c9686",
        "colab": {
          "base_uri": "https://localhost:8080/",
          "height": 105
        }
      },
      "source": [
        "test_results = undersample_model.evaluate(X_test, y_test)\n",
        "print(\"\\nloss :\", test_results[0])\n",
        "print(\"\\naccuracy :\", test_results[1])"
      ],
      "execution_count": 73,
      "outputs": [
        {
          "output_type": "stream",
          "text": [
            "197/197 [==============================] - 0s 49us/step\n",
            "\n",
            "loss : 0.11984676270164209\n",
            "\n",
            "accuracy : 0.9593908786773682\n"
          ],
          "name": "stdout"
        }
      ]
    },
    {
      "cell_type": "code",
      "metadata": {
        "id": "lySQYWjRFIKu",
        "colab_type": "code",
        "colab": {}
      },
      "source": [
        "undersample_predictions = undersample_model.predict(original_Xtest)"
      ],
      "execution_count": 0,
      "outputs": []
    },
    {
      "cell_type": "code",
      "metadata": {
        "id": "jPQRga76-TxZ",
        "colab_type": "code",
        "colab": {}
      },
      "source": [
        "undersample_fraud_predictions = undersample_model.predict_classes(original_Xtest)"
      ],
      "execution_count": 0,
      "outputs": []
    },
    {
      "cell_type": "code",
      "metadata": {
        "id": "rfot5WQwFIKx",
        "colab_type": "code",
        "colab": {}
      },
      "source": [
        "import itertools\n",
        "\n",
        "# Create a confusion matrix\n",
        "def plot_confusion_matrix(cm, classes,\n",
        "                          normalize=False,\n",
        "                          title='Confusion matrix',\n",
        "                          cmap=plt.cm.Blues):\n",
        "    \"\"\"\n",
        "    This function prints and plots the confusion matrix.\n",
        "    Normalization can be applied by setting `normalize=True`.\n",
        "    \"\"\"\n",
        "    if normalize:\n",
        "        cm = cm.astype('float') / cm.sum(axis=1)[:, np.newaxis]\n",
        "        print(\"Normalized confusion matrix\")\n",
        "    else:\n",
        "        print('Confusion matrix, without normalization')\n",
        "\n",
        "    print(cm)\n",
        "\n",
        "    plt.imshow(cm, interpolation='nearest', cmap=cmap)\n",
        "    plt.title(title, fontsize=14)\n",
        "    plt.colorbar()\n",
        "    tick_marks = np.arange(len(classes))\n",
        "    plt.xticks(tick_marks, classes, rotation=45)\n",
        "    plt.yticks(tick_marks, classes)\n",
        "\n",
        "    fmt = '.2f' if normalize else 'd'\n",
        "    thresh = cm.max() / 2.\n",
        "    for i, j in itertools.product(range(cm.shape[0]), range(cm.shape[1])):\n",
        "        plt.text(j, i, format(cm[i, j], fmt),\n",
        "                 horizontalalignment=\"center\",\n",
        "                 color=\"white\" if cm[i, j] > thresh else \"black\")\n",
        "\n",
        "    plt.tight_layout()\n",
        "    plt.ylabel('True label')\n",
        "    plt.xlabel('Predicted label')"
      ],
      "execution_count": 0,
      "outputs": []
    },
    {
      "cell_type": "code",
      "metadata": {
        "id": "m7OIyfoCFIK0",
        "colab_type": "code",
        "outputId": "3e3619d6-1298-4851-d0b9-14623cba6ea8",
        "colab": {
          "base_uri": "https://localhost:8080/",
          "height": 392
        }
      },
      "source": [
        "undersample_cm = confusion_matrix(original_ytest, undersample_fraud_predictions)\n",
        "actual_cm = confusion_matrix(original_ytest, original_ytest)\n",
        "labels = ['No Fraud', 'Fraud']\n",
        "\n",
        "fig = plt.figure(figsize=(16,8))\n",
        "\n",
        "fig.add_subplot(221)\n",
        "plot_confusion_matrix(undersample_cm, labels, title=\"Random UnderSample \\n Confusion Matrix\", cmap=plt.cm.Reds)\n",
        "\n",
        "fig.add_subplot(222)\n",
        "plot_confusion_matrix(actual_cm, labels, title=\"Confusion Matrix \\n (with 100% accuracy)\", cmap=plt.cm.Greens)"
      ],
      "execution_count": 77,
      "outputs": [
        {
          "output_type": "stream",
          "text": [
            "Confusion matrix, without normalization\n",
            "[[54151  2713]\n",
            " [    4    94]]\n",
            "Confusion matrix, without normalization\n",
            "[[56864     0]\n",
            " [    0    98]]\n"
          ],
          "name": "stdout"
        },
        {
          "output_type": "display_data",
          "data": {
            "image/png": "[encoded data removed]",
            "text/plain": [
              "<Figure size 1152x576 with 4 Axes>"
            ]
          },
          "metadata": {
            "tags": []
          }
        }
      ]
    },
    {
      "cell_type": "markdown",
      "metadata": {
        "id": "F7THI9thFIK-",
        "colab_type": "text"
      },
      "source": [
        "## Keras || OverSampling (SMOTE)"
      ]
    },
    {
      "cell_type": "code",
      "metadata": {
        "id": "jhMlhh6tFIK_",
        "colab_type": "code",
        "outputId": "d5ea3326-37b0-4880-ed19-69fda067c7a5",
        "colab": {
          "base_uri": "https://localhost:8080/",
          "height": 763
        }
      },
      "source": [
        "n_inputs = Xsm_train.shape[1]\n",
        "\n",
        "oversample_model = Sequential([\n",
        "    Dense(n_inputs, input_shape=(n_inputs, ), activation='relu'),\n",
        "    Dense(32, activation='relu'),\n",
        "    Dense(2, activation='softmax')\n",
        "])\n",
        "\n",
        "oversample_model.compile(Adam(lr=0.001), loss='sparse_categorical_crossentropy', metrics=['accuracy'])\n",
        "\n",
        "oversample_model.fit(Xsm_train, ysm_train, validation_split=0.2, batch_size=300, epochs=20, shuffle=True, verbose=2)"
      ],
      "execution_count": 78,
      "outputs": [
        {
          "output_type": "stream",
          "text": [
            "Train on 363921 samples, validate on 90981 samples\n",
            "Epoch 1/20\n",
            " - 2s - loss: 0.0676 - accuracy: 0.9749 - val_loss: 0.0220 - val_accuracy: 0.9931\n",
            "Epoch 2/20\n",
            " - 2s - loss: 0.0126 - accuracy: 0.9972 - val_loss: 0.0090 - val_accuracy: 0.9993\n",
            "Epoch 3/20\n",
            " - 2s - loss: 0.0072 - accuracy: 0.9986 - val_loss: 0.0078 - val_accuracy: 0.9988\n",
            "Epoch 4/20\n",
            " - 2s - loss: 0.0048 - accuracy: 0.9990 - val_loss: 0.0034 - val_accuracy: 0.9999\n",
            "Epoch 5/20\n",
            " - 2s - loss: 0.0035 - accuracy: 0.9993 - val_loss: 0.0031 - val_accuracy: 0.9999\n",
            "Epoch 6/20\n",
            " - 2s - loss: 0.0030 - accuracy: 0.9993 - val_loss: 0.0113 - val_accuracy: 0.9979\n",
            "Epoch 7/20\n",
            " - 2s - loss: 0.0026 - accuracy: 0.9994 - val_loss: 0.0019 - val_accuracy: 1.0000\n",
            "Epoch 8/20\n",
            " - 2s - loss: 0.0022 - accuracy: 0.9996 - val_loss: 9.9569e-04 - val_accuracy: 1.0000\n",
            "Epoch 9/20\n",
            " - 2s - loss: 0.0020 - accuracy: 0.9996 - val_loss: 0.0016 - val_accuracy: 1.0000\n",
            "Epoch 10/20\n",
            " - 2s - loss: 0.0017 - accuracy: 0.9996 - val_loss: 6.5780e-04 - val_accuracy: 1.0000\n",
            "Epoch 11/20\n",
            " - 2s - loss: 0.0015 - accuracy: 0.9997 - val_loss: 0.0014 - val_accuracy: 1.0000\n",
            "Epoch 12/20\n",
            " - 2s - loss: 0.0015 - accuracy: 0.9997 - val_loss: 3.4486e-04 - val_accuracy: 1.0000\n",
            "Epoch 13/20\n",
            " - 2s - loss: 0.0013 - accuracy: 0.9997 - val_loss: 2.2938e-04 - val_accuracy: 1.0000\n",
            "Epoch 14/20\n",
            " - 2s - loss: 0.0016 - accuracy: 0.9996 - val_loss: 9.1837e-04 - val_accuracy: 0.9998\n",
            "Epoch 15/20\n",
            " - 2s - loss: 0.0012 - accuracy: 0.9997 - val_loss: 5.0413e-04 - val_accuracy: 1.0000\n",
            "Epoch 16/20\n",
            " - 2s - loss: 0.0013 - accuracy: 0.9997 - val_loss: 0.0055 - val_accuracy: 0.9984\n",
            "Epoch 17/20\n",
            " - 2s - loss: 0.0011 - accuracy: 0.9998 - val_loss: 4.5534e-04 - val_accuracy: 1.0000\n",
            "Epoch 18/20\n",
            " - 2s - loss: 0.0011 - accuracy: 0.9997 - val_loss: 0.0011 - val_accuracy: 0.9998\n",
            "Epoch 19/20\n",
            " - 2s - loss: 0.0011 - accuracy: 0.9998 - val_loss: 0.0015 - val_accuracy: 0.9994\n",
            "Epoch 20/20\n",
            " - 2s - loss: 0.0011 - accuracy: 0.9998 - val_loss: 7.1216e-04 - val_accuracy: 1.0000\n"
          ],
          "name": "stdout"
        },
        {
          "output_type": "execute_result",
          "data": {
            "text/plain": [
              "<keras.callbacks.callbacks.History at 0x7f4de5e516d8>"
            ]
          },
          "metadata": {
            "tags": []
          },
          "execution_count": 78
        }
      ]
    },
    {
      "cell_type": "code",
      "metadata": {
        "id": "fMpncaLGHI6K",
        "colab_type": "code",
        "outputId": "45a4a2e5-411a-4515-8d17-26a199a395b7",
        "colab": {
          "base_uri": "https://localhost:8080/",
          "height": 105
        }
      },
      "source": [
        "test_results = oversample_model.evaluate(X_test, y_test)\n",
        "print(\"\\nloss :\", test_results[0])\n",
        "print(\"\\naccuracy :\", test_results[1])"
      ],
      "execution_count": 79,
      "outputs": [
        {
          "output_type": "stream",
          "text": [
            "197/197 [==============================] - 0s 63us/step\n",
            "\n",
            "loss : 0.22935676637464936\n",
            "\n",
            "accuracy : 0.9796954393386841\n"
          ],
          "name": "stdout"
        }
      ]
    },
    {
      "cell_type": "code",
      "metadata": {
        "id": "NI_XVFaJFILI",
        "colab_type": "code",
        "outputId": "62c7dc5c-1235-4abd-c61f-d597a77c0557",
        "colab": {
          "base_uri": "https://localhost:8080/",
          "height": 392
        }
      },
      "source": [
        "oversample_predictions = oversample_model.predict(original_Xtest, batch_size=200, verbose=0)\n",
        "oversample_fraud_predictions = oversample_model.predict_classes(original_Xtest, batch_size=200, verbose=0)\n",
        "\n",
        "\n",
        "oversample_smote = confusion_matrix(original_ytest, oversample_fraud_predictions)\n",
        "actual_cm = confusion_matrix(original_ytest, original_ytest)\n",
        "labels = ['No Fraud', 'Fraud']\n",
        "\n",
        "fig = plt.figure(figsize=(16,8))\n",
        "\n",
        "fig.add_subplot(221)\n",
        "plot_confusion_matrix(oversample_smote, labels, title=\"OverSample (SMOTE) \\n Confusion Matrix\", cmap=plt.cm.Oranges)\n",
        "\n",
        "fig.add_subplot(222)\n",
        "plot_confusion_matrix(actual_cm, labels, title=\"Confusion Matrix \\n (with 100% accuracy)\", cmap=plt.cm.Greens)\n"
      ],
      "execution_count": 80,
      "outputs": [
        {
          "output_type": "stream",
          "text": [
            "Confusion matrix, without normalization\n",
            "[[56830    34]\n",
            " [   18    80]]\n",
            "Confusion matrix, without normalization\n",
            "[[56864     0]\n",
            " [    0    98]]\n"
          ],
          "name": "stdout"
        },
        {
          "output_type": "display_data",
          "data": {
            "image/png": "[encoded data removed]",
            "text/plain": [
              "<Figure size 1152x576 with 4 Axes>"
            ]
          },
          "metadata": {
            "tags": []
          }
        }
      ]
    }
  ]
}